{
 "cells": [
  {
   "cell_type": "markdown",
   "metadata": {},
   "source": [
    "# Question 1\n",
    "\n",
    "Write a python function that returns $2\\sin(x^2) + \\ln(|x|) + 1$ for a given real number $x$."
   ]
  },
  {
   "cell_type": "code",
   "execution_count": 1,
   "metadata": {},
   "outputs": [
    {
     "data": {
      "text/plain": [
       "2.682941969615793"
      ]
     },
     "execution_count": 1,
     "metadata": {},
     "output_type": "execute_result"
    }
   ],
   "source": [
    "from math import sin, log\n",
    "\n",
    "def f(x):\n",
    "    return 2*sin(x**2) + log(abs(x)) + 1.0\n",
    "\n",
    "f(1.0)"
   ]
  },
  {
   "cell_type": "markdown",
   "metadata": {},
   "source": [
    "# Question 2\n",
    "\n",
    "Write a python function that takes\n",
    "\n",
    "* A function `f(x)`\n",
    "* A pair of real numbers `(a,b)`\n",
    "* An integer `N`\n",
    "\n",
    "as input and returns the Riemann sum of `f(x)` on the interval `[a,b]` with `N` equal subdivisions."
   ]
  },
  {
   "cell_type": "code",
   "execution_count": 2,
   "metadata": {},
   "outputs": [
    {
     "data": {
      "text/plain": [
       "1.9798338422550525"
      ]
     },
     "execution_count": 2,
     "metadata": {},
     "output_type": "execute_result"
    }
   ],
   "source": [
    "import numpy as np\n",
    "from math import pi\n",
    "\n",
    "def RiemannSum(f, interval, N):\n",
    "    a,b = interval\n",
    "    dx = (b-a)/N\n",
    "    xs = np.linspace(a,b,N)\n",
    "    fv = np.vectorize(f)\n",
    "    return dx*sum(fv(xs))\n",
    "\n",
    "RiemannSum(sin,(0,pi),100)"
   ]
  },
  {
   "cell_type": "markdown",
   "metadata": {},
   "source": [
    "# Question 3\n",
    "\n",
    "* Pull 100 uniformly random numbers from the interval $[0,1]$ as an array `xs`.\n",
    "* Add 0 at the beginning of the array, and 1.0 at the end.\n",
    "* Sort the array `xs` from smallest to the largest.\n",
    "* Calculate its discrete derivative `ys`, i.e. let $y_i = x_{i+1} - x_i$"
   ]
  },
  {
   "cell_type": "code",
   "execution_count": 3,
   "metadata": {},
   "outputs": [
    {
     "data": {
      "text/plain": [
       "array([0.01453743, 0.00156663, 0.00534638, 0.00096398, 0.00508993,\n",
       "       0.00113972, 0.00794464, 0.00759768, 0.01644741, 0.0231801 ,\n",
       "       0.00176902, 0.004525  , 0.00651795, 0.02118523, 0.00246595,\n",
       "       0.00211198, 0.00827289, 0.0095773 , 0.01107778, 0.00116672,\n",
       "       0.00555542, 0.00197661, 0.00577502, 0.00075182, 0.00150462,\n",
       "       0.03740627, 0.00321144, 0.01643881, 0.00950991, 0.00428141,\n",
       "       0.00352253, 0.03885483, 0.04457475, 0.00533743, 0.01936863,\n",
       "       0.00513555, 0.01066424, 0.00294978, 0.00050975, 0.02545816,\n",
       "       0.00922468, 0.00474569, 0.0266568 , 0.00308083, 0.00432957,\n",
       "       0.00399059, 0.00019818, 0.00880208, 0.00519906, 0.01766466,\n",
       "       0.00367313, 0.00523431, 0.011792  , 0.00963488, 0.00749983,\n",
       "       0.01861325, 0.00230705, 0.01085615, 0.01071165, 0.00674251,\n",
       "       0.00317664, 0.00183448, 0.01546867, 0.01741572, 0.00078044,\n",
       "       0.02498636, 0.02380307, 0.00063454, 0.02738756, 0.00156014,\n",
       "       0.01222296, 0.04473237, 0.00149226, 0.00895459, 0.03045946,\n",
       "       0.01131244, 0.00189771, 0.02297412, 0.01214312, 0.00028657,\n",
       "       0.00204055, 0.008042  , 0.00131223, 0.00237684, 0.0159444 ,\n",
       "       0.01281529, 0.01844092, 0.00610445, 0.00847108, 0.00456424,\n",
       "       0.0008383 , 0.01559287, 0.01621418, 0.01133397, 0.00506612,\n",
       "       0.00333   , 0.01781157, 0.0023699 , 0.00521517, 0.00142389,\n",
       "       0.01094116])"
      ]
     },
     "execution_count": 3,
     "metadata": {},
     "output_type": "execute_result"
    }
   ],
   "source": [
    "from numpy.random import uniform\n",
    "\n",
    "xs = np.append(np.array([0.0, 1.0]), uniform(0.0,1.0,100))\n",
    "xs.sort()\n",
    "ys = np.diff(xs) \n",
    "ys"
   ]
  },
  {
   "cell_type": "markdown",
   "metadata": {},
   "source": [
    "# Question 4\n",
    "\n",
    "* Pull 100 uniformly random numbers from the interval $[0,1]$ into an array `xs`.\n",
    "* Pull 100 random numbers from the Gaussion distribution with $\\mu=0$ and $\\sigma=1.0$ into an array `ys`.\n",
    "* Scatter plot `xs` against `ys` using `matplotlib`\n"
   ]
  },
  {
   "cell_type": "code",
   "execution_count": 4,
   "metadata": {},
   "outputs": [
    {
     "data": {
      "text/plain": [
       "<matplotlib.collections.PathCollection at 0x7fa85bf795b0>"
      ]
     },
     "execution_count": 4,
     "metadata": {},
     "output_type": "execute_result"
    },
    {
     "data": {
      "image/png": "[encoded data removed]",
      "text/plain": [
       "<Figure size 432x288 with 1 Axes>"
      ]
     },
     "metadata": {
      "needs_background": "light"
     },
     "output_type": "display_data"
    }
   ],
   "source": [
    "from numpy.random import uniform, normal\n",
    "from matplotlib.pyplot import scatter\n",
    "\n",
    "xs = uniform(0.0, 1.0, 100)\n",
    "ys = normal(0.0, 1.0, 100)\n",
    "\n",
    "scatter(xs,ys)"
   ]
  },
  {
   "cell_type": "markdown",
   "metadata": {},
   "source": [
    "# Question 5\n",
    "\n",
    "Using the `numpy` library\n",
    "\n",
    "* Pull a random $100\\times 100$ matrix\n",
    "* Calculate its 100-th power\n",
    "* Calculate its eigen-values\n",
    "* Calculate is [Singular Value Decomposition](https://numpy.org/doc/stable/reference/generated/numpy.linalg.svd.html)"
   ]
  },
  {
   "cell_type": "code",
   "execution_count": 5,
   "metadata": {},
   "outputs": [],
   "source": [
    "A = np.random.rand(100,100)\n",
    "A100 = A**100\n",
    "eigval, eigvec = np.linalg.eig(A)\n",
    "u,s,vh = np.linalg.svd(A)"
   ]
  },
  {
   "cell_type": "markdown",
   "metadata": {},
   "source": [
    "# Question 6\n",
    "\n",
    "* Pull the text of a novel by Dickens from the website of [Gutenberg Project](https://www.gutenberg.org/)\n",
    "* Remove all non-alphanumeric characters \n",
    "* Split the text into words and convert them into lower case\n",
    "* Count the number of distinct words in the  text\n",
    "* Count how many times each word occurs within the text"
   ]
  },
  {
   "cell_type": "code",
   "execution_count": 6,
   "metadata": {},
   "outputs": [
    {
     "data": {
      "text/plain": [
       "23777"
      ]
     },
     "execution_count": 6,
     "metadata": {},
     "output_type": "execute_result"
    }
   ],
   "source": [
    "from urllib.request import urlopen\n",
    "from collections import Counter\n",
    "from re import sub\n",
    "\n",
    "raw = urlopen(\"https://www.gutenberg.org/files/1400/1400-0.txt\")\n",
    "text = raw.read().decode('utf-8').lower()\n",
    "processed = sub('[^a-z ]','',text).split()\n",
    "\n",
    "len(set(processed))"
   ]
  },
  {
   "cell_type": "markdown",
   "metadata": {},
   "source": [
    "# Question 7\n",
    "\n",
    "* Write a python function `CountWords` that takes the URL for a text and returns the number of unique words within the text.\n",
    "* Write a python function `Top20Words` that takes the URL for a text and returns the most frequently appearing top 20 words within the text."
   ]
  },
  {
   "cell_type": "code",
   "execution_count": 7,
   "metadata": {},
   "outputs": [
    {
     "data": {
      "text/plain": [
       "23777"
      ]
     },
     "execution_count": 7,
     "metadata": {},
     "output_type": "execute_result"
    }
   ],
   "source": [
    "def CountWords(url):\n",
    "    raw = urlopen(url)\n",
    "    text = raw.read().decode('utf-8').lower()\n",
    "    processed = sub('[^a-z ]','',text).split()\n",
    "    return len(set(processed))\n",
    "\n",
    "CountWords('https://www.gutenberg.org/files/1400/1400-0.txt')"
   ]
  },
  {
   "cell_type": "code",
   "execution_count": 8,
   "metadata": {},
   "outputs": [
    {
     "data": {
      "text/plain": [
       "['the',\n",
       " 'and',\n",
       " 'i',\n",
       " 'to',\n",
       " 'of',\n",
       " 'a',\n",
       " 'in',\n",
       " 'that',\n",
       " 'was',\n",
       " 'it',\n",
       " 'he',\n",
       " 'you',\n",
       " 'had',\n",
       " 'my',\n",
       " 'me',\n",
       " 'his',\n",
       " 'with',\n",
       " 'as',\n",
       " 'at',\n",
       " 'said']"
      ]
     },
     "execution_count": 8,
     "metadata": {},
     "output_type": "execute_result"
    }
   ],
   "source": [
    "def TopNWords(url, N):\n",
    "    raw = urlopen(url)\n",
    "    text = raw.read().decode('utf-8').lower()\n",
    "    processed = sub('[^a-z ]','',text).split()\n",
    "    res = Counter(processed)\n",
    "    return sorted(res,key=res.get,reverse=True)[:N]\n",
    "\n",
    "TopNWords('https://www.gutenberg.org/files/1400/1400-0.txt',20)"
   ]
  },
  {
   "cell_type": "markdown",
   "metadata": {},
   "source": [
    "# Question 8\n",
    "\n",
    "* Pull the [IMKB](https://archive.ics.uci.edu/ml/machine-learning-databases/00247/data_akbilgic.xlsx) data from UCI using pandas.\n",
    "* Plot the TL based ISE and USD based ISE columns together in the same graph.\n",
    "* Calculate how many times `NIKKEI` was higher than `FTSE`."
   ]
  },
  {
   "cell_type": "code",
   "execution_count": 9,
   "metadata": {},
   "outputs": [
    {
     "name": "stderr",
     "output_type": "stream",
     "text": [
      "/home/kaygun/.local/lib/python3.9/site-packages/openpyxl/worksheet/_reader.py:312: UserWarning: Unknown extension is not supported and will be removed\n",
      "  warn(msg)\n"
     ]
    },
    {
     "data": {
      "text/plain": [
       "261"
      ]
     },
     "execution_count": 9,
     "metadata": {},
     "output_type": "execute_result"
    },
    {
     "data": {
      "image/png": "[encoded data removed]",
      "text/plain": [
       "<Figure size 432x288 with 1 Axes>"
      ]
     },
     "metadata": {
      "needs_background": "light"
     },
     "output_type": "display_data"
    }
   ],
   "source": [
    "import pandas as pd\n",
    "\n",
    "data = pd.read_excel('https://archive.ics.uci.edu/ml/machine-learning-databases/00247/data_akbilgic.xlsx', header=1)\n",
    "\n",
    "data.plot('date',['ISE','ISE.1'])\n",
    "\n",
    "len(data['date'][data['NIKKEI']>data['FTSE']])"
   ]
  },
  {
   "cell_type": "markdown",
   "metadata": {},
   "source": [
    "# Question 9\n",
    "\n",
    "Using the [networkx](https://networkx.org/) library\n",
    "\n",
    "* Get the [adjacency matrix](https://en.wikipedia.org/wiki/Adjacency_matrix) of the [Peterson graph](https://en.wikipedia.org/wiki/Petersen_graph).\n",
    "* Calculate its eigen-values and eigen-vectors using the [numpy](https://numpy.org/) library.\n",
    "* Repeat the same for a [random 3-regular graph on 10 vertices](https://networkx.org/documentation/networkx-1.10/reference/generated/networkx.generators.random_graphs.random_regular_graph.html)."
   ]
  },
  {
   "cell_type": "code",
   "execution_count": 10,
   "metadata": {},
   "outputs": [
    {
     "data": {
      "text/plain": [
       "(array([-2.,  1.,  3., -2., -2.,  1., -2.,  1.,  1.,  1.]),\n",
       " matrix([[ 0.63245553, -0.70710678, -0.31622777,  0.01255815,  0.01063778,\n",
       "           0.20943433,  0.01522339, -0.17868297,  0.15664612,  0.15799877],\n",
       "         [-0.42163702, -0.23570226, -0.31622777,  0.26924694, -0.13448726,\n",
       "          -0.17276436, -0.1672792 ,  0.18584327, -0.45846497, -0.51846802],\n",
       "         [ 0.10540926,  0.23570226, -0.31622777, -0.59778848,  0.08700056,\n",
       "          -0.02956044, -0.18505773,  0.33668975, -0.01542183, -0.27959959],\n",
       "         [ 0.10540926,  0.23570226, -0.31622777,  0.3928542 ,  0.37097213,\n",
       "           0.52644379,  0.09776702,  0.01983857,  0.30467662,  0.31976892],\n",
       "         [-0.42163702, -0.23570226, -0.31622777, -0.0768708 , -0.3341232 ,\n",
       "           0.56077884,  0.23934652, -0.63426966,  0.49692175,  0.584534  ],\n",
       "         [-0.42163702, -0.23570226, -0.31622777, -0.21749243,  0.44733491,\n",
       "          -0.17858015, -0.10251411,  0.26974342,  0.11818934,  0.09193279],\n",
       "         [ 0.10540926,  0.23570226, -0.31622777,  0.04673646,  0.17133619,\n",
       "          -0.35263825,  0.50439274,  0.02783648, -0.59968925, -0.3968672 ],\n",
       "         [ 0.10540926,  0.23570226, -0.31622777,  0.53347582, -0.41048599,\n",
       "          -0.38323986,  0.43962765,  0.13100791,  0.13836651, -0.08090049],\n",
       "         [ 0.10540926,  0.23570226, -0.31622777, -0.11104911, -0.49482162,\n",
       "          -0.00477462, -0.24982283,  0.31741847, -0.17682329,  0.01483451],\n",
       "         [ 0.10540926,  0.23570226, -0.31622777, -0.25167074,  0.2866365 ,\n",
       "          -0.17509927, -0.59168346, -0.47542526,  0.03559901,  0.10676631]]))"
      ]
     },
     "execution_count": 10,
     "metadata": {},
     "output_type": "execute_result"
    }
   ],
   "source": [
    "import networkx as nx\n",
    "\n",
    "G = nx.petersen_graph()\n",
    "A = nx.linalg.adj_matrix(G)\n",
    "np.linalg.eig(A.todense())"
   ]
  },
  {
   "cell_type": "code",
   "execution_count": 11,
   "metadata": {},
   "outputs": [
    {
     "data": {
      "text/plain": [
       "(array([ 3.00000000e+00, -2.56155281e+00, -1.00000000e+00,  1.56155281e+00,\n",
       "        -2.00000000e+00, -2.00000000e+00,  8.78258056e-17,  1.00000000e+00,\n",
       "         1.00000000e+00,  1.00000000e+00]),\n",
       " matrix([[ 3.16227766e-01,  3.94102719e-01,  5.00000000e-01,\n",
       "          -3.07706105e-01,  2.58198890e-01, -3.26829467e-03,\n",
       "          -8.93020533e-17,  5.77350269e-01,  5.39791032e-02,\n",
       "          -2.02355303e-01],\n",
       "         [ 3.16227766e-01, -3.94102719e-01, -5.00000000e-01,\n",
       "           3.07706105e-01,  2.58198890e-01, -3.26829467e-03,\n",
       "          -3.76050283e-17,  5.77350269e-01,  5.39791032e-02,\n",
       "          -2.02355303e-01],\n",
       "         [ 3.16227766e-01,  3.07706105e-01,  4.50787711e-16,\n",
       "           3.94102719e-01, -3.87298335e-01,  2.93554449e-01,\n",
       "          -5.00000000e-01,  1.84735115e-17,  4.50390253e-02,\n",
       "          -3.81692034e-01],\n",
       "         [ 3.16227766e-01, -5.71396271e-16, -1.34962769e-16,\n",
       "           1.44630523e-16,  2.58198890e-01, -5.80572309e-01,\n",
       "          -8.52966875e-17, -2.88675135e-01, -4.76694826e-01,\n",
       "          -2.53018287e-01],\n",
       "         [ 3.16227766e-01,  3.94102719e-01, -5.00000000e-01,\n",
       "          -3.07706105e-01,  2.58198890e-01, -3.26829467e-03,\n",
       "           1.01453996e-16, -2.88675135e-01,  4.67754748e-01,\n",
       "           7.36815556e-02],\n",
       "         [ 3.16227766e-01, -3.94102719e-01,  5.00000000e-01,\n",
       "           3.07706105e-01,  2.58198890e-01, -3.26829467e-03,\n",
       "           6.40575321e-17, -2.88675135e-01,  4.67754748e-01,\n",
       "           7.36815556e-02],\n",
       "         [ 3.16227766e-01, -2.22501339e-16,  7.67819894e-17,\n",
       "           1.93735141e-16,  2.58198890e-01,  5.74035719e-01,\n",
       "           1.40291299e-16, -2.88675135e-01, -5.66772876e-01,\n",
       "           5.10365781e-01],\n",
       "         [ 3.16227766e-01,  3.07706105e-01,  2.63437536e-16,\n",
       "           3.94102719e-01, -3.87298335e-01, -2.83749565e-01,\n",
       "           5.00000000e-01,  2.09850877e-16, -4.50390253e-02,\n",
       "           3.81692034e-01],\n",
       "         [ 3.16227766e-01, -3.07706105e-01,  2.07797979e-16,\n",
       "          -3.94102719e-01, -3.87298335e-01,  2.93554449e-01,\n",
       "           5.00000000e-01, -1.51050015e-16,  4.50390253e-02,\n",
       "          -3.81692034e-01],\n",
       "         [ 3.16227766e-01, -3.07706105e-01, -1.04452300e-16,\n",
       "          -3.94102719e-01, -3.87298335e-01, -2.83749565e-01,\n",
       "          -5.00000000e-01,  1.71735168e-17, -4.50390253e-02,\n",
       "           3.81692034e-01]]))"
      ]
     },
     "execution_count": 11,
     "metadata": {},
     "output_type": "execute_result"
    }
   ],
   "source": [
    "G = nx.random_regular_graph(3,10)\n",
    "A = nx.linalg.adj_matrix(G)\n",
    "np.linalg.eig(A.todense())"
   ]
  }
 ],
 "metadata": {
  "kernelspec": {
   "display_name": "Python 3",
   "language": "python",
   "name": "python3"
  },
  "language_info": {
   "codemirror_mode": {
    "name": "ipython",
    "version": 3
   },
   "file_extension": ".py",
   "mimetype": "text/x-python",
   "name": "python",
   "nbconvert_exporter": "python",
   "pygments_lexer": "ipython3",
   "version": "3.9.2"
  }
 },
 "nbformat": 4,
 "nbformat_minor": 4
}
