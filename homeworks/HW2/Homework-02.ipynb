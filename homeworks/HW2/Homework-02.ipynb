{
 "cells": [
  {
   "cell_type": "markdown",
   "id": "posted-stanford",
   "metadata": {},
   "source": [
    "# Homework #2\n",
    "\n"
   ]
  },
  {
   "cell_type": "markdown",
   "id": "necessary-taiwan",
   "metadata": {},
   "source": [
    "# Some general remarks about the homeworks\n",
    "\n",
    "## Don't cut and paste code! \n",
    "\n",
    "Do not cut&paste code from outside, not within your homework code either. The former is *plagiarism* which is a serious offence. \n",
    "\n",
    "If you are cutting and pasting the same code within your HW again and again, then you need to write a function for that code, and then reuse this function.  Read my code below. It is readable because I am heavily using functions. It is orders of magnitude shorter that any of the homeworks submitted this time around.\n",
    "\n",
    "\n",
    "## Use markdown cells to explain your code\n",
    "\n",
    "Do not use comments in your code, nor use print statements. If you need to explain something, then open a markdown cell and explain it. If you need to comment on something, open a markdown cell and comment it. Look at the way I comment my code below, and the way I explain and analyze the results."
   ]
  },
  {
   "cell_type": "markdown",
   "id": "compressed-alpha",
   "metadata": {},
   "source": [
    "## Question #1\n",
    "\n",
    "There are four text files in the data folder\n",
    "\n",
    "* Atatürk's \"Nutuk\" in Turkish\n",
    "* Dicken's novel \"Great Expectations\" in English\n",
    "* Flauberts' novel \"Madam Bovary\" in French\n",
    "* A text file `unknown.txt` in an unknown language\n",
    "\n",
    "Your tasks are\n",
    "\n",
    "* Calculate how many times each character (letter) appear in each text.\n",
    "* Calculate the character distributions, i.e. using the character counts, calculate the probability of each character appearing in the text.\n",
    "* Find the set of characters common to all three texts.\n",
    "* Using the common set and the KL-divergence, show that each language have different character distributions.\n",
    "* Determine the language of the text file `unknown.txt` KL-divergence measure."
   ]
  },
  {
   "cell_type": "markdown",
   "id": "downtown-junction",
   "metadata": {},
   "source": [
    "# Answer\n",
    "\n",
    "\n",
    "I'll start with loading each text as a list of characters after I delete every non-character."
   ]
  },
  {
   "cell_type": "code",
   "execution_count": 57,
   "id": "fiscal-holly",
   "metadata": {},
   "outputs": [],
   "source": [
    "from re import sub\n",
    "from collections import Counter\n",
    "\n",
    "corpora = ['./data/ataturk_nutuk.txt', \n",
    "           './data/dickens_great_expectations.txt',\n",
    "           './data/flaubert_madame_bovary.txt',\n",
    "           './data/unknown.txt']\n",
    "\n",
    "def loadCorpus(name):\n",
    "    with open(name, encoding='utf-8') as corpus:\n",
    "        tmp = corpus.read().lower()    \n",
    "    result = list(sub(r'[\\W\\d ]+', '', tmp))\n",
    "    return result\n",
    "\n",
    "raw = [loadCorpus(corpus) for corpus in corpora]"
   ]
  },
  {
   "cell_type": "markdown",
   "id": "chief-india",
   "metadata": {},
   "source": [
    "Next, I calculate the character counts for each text:"
   ]
  },
  {
   "cell_type": "code",
   "execution_count": 58,
   "id": "municipal-awareness",
   "metadata": {},
   "outputs": [],
   "source": [
    "counts = [Counter(x) for x in raw]"
   ]
  },
  {
   "cell_type": "markdown",
   "id": "backed-queensland",
   "metadata": {},
   "source": [
    "Next, I calculate the common set of characters and calculate probability distributions:"
   ]
  },
  {
   "cell_type": "code",
   "execution_count": 2,
   "id": "creative-spelling",
   "metadata": {},
   "outputs": [],
   "source": [
    "common = list(set(raw[0]).intersection(raw[1],raw[2],raw[3]))\n",
    "\n",
    "def probabilities(corpus):\n",
    "    N = len(corpus)\n",
    "    P = Counter(corpus)\n",
    "    result = [P[x]/N for x in common]\n",
    "    return result\n",
    "    \n",
    "probs = [probabilities(x) for x in raw]"
   ]
  },
  {
   "cell_type": "markdown",
   "id": "unlimited-dinner",
   "metadata": {},
   "source": [
    "Next, we calculate the distance matrix"
   ]
  },
  {
   "cell_type": "code",
   "execution_count": 4,
   "id": "saved-prospect",
   "metadata": {},
   "outputs": [
    {
     "data": {
      "text/html": [
       "<div>\n",
       "<style scoped>\n",
       "    .dataframe tbody tr th:only-of-type {\n",
       "        vertical-align: middle;\n",
       "    }\n",
       "\n",
       "    .dataframe tbody tr th {\n",
       "        vertical-align: top;\n",
       "    }\n",
       "\n",
       "    .dataframe thead th {\n",
       "        text-align: right;\n",
       "    }\n",
       "</style>\n",
       "<table border=\"1\" class=\"dataframe\">\n",
       "  <thead>\n",
       "    <tr style=\"text-align: right;\">\n",
       "      <th></th>\n",
       "      <th>Nutuk</th>\n",
       "      <th>Great Expectations</th>\n",
       "      <th>Madame Bovary</th>\n",
       "      <th>Unknown</th>\n",
       "    </tr>\n",
       "  </thead>\n",
       "  <tbody>\n",
       "    <tr>\n",
       "      <th>Nutuk</th>\n",
       "      <td>0.000000</td>\n",
       "      <td>0.588082</td>\n",
       "      <td>0.655284</td>\n",
       "      <td>0.807991</td>\n",
       "    </tr>\n",
       "    <tr>\n",
       "      <th>Great Expectations</th>\n",
       "      <td>0.588082</td>\n",
       "      <td>0.000000</td>\n",
       "      <td>0.381647</td>\n",
       "      <td>0.081892</td>\n",
       "    </tr>\n",
       "    <tr>\n",
       "      <th>Madame Bovary</th>\n",
       "      <td>0.655284</td>\n",
       "      <td>0.381647</td>\n",
       "      <td>0.000000</td>\n",
       "      <td>0.422703</td>\n",
       "    </tr>\n",
       "    <tr>\n",
       "      <th>Unknown</th>\n",
       "      <td>0.807991</td>\n",
       "      <td>0.081892</td>\n",
       "      <td>0.422703</td>\n",
       "      <td>0.000000</td>\n",
       "    </tr>\n",
       "  </tbody>\n",
       "</table>\n",
       "</div>"
      ],
      "text/plain": [
       "                       Nutuk  Great Expectations  Madame Bovary   Unknown\n",
       "Nutuk               0.000000            0.588082       0.655284  0.807991\n",
       "Great Expectations  0.588082            0.000000       0.381647  0.081892\n",
       "Madame Bovary       0.655284            0.381647       0.000000  0.422703\n",
       "Unknown             0.807991            0.081892       0.422703  0.000000"
      ]
     },
     "execution_count": 4,
     "metadata": {},
     "output_type": "execute_result"
    }
   ],
   "source": [
    "import numpy as np\n",
    "import pandas as pd\n",
    "from scipy.stats import entropy\n",
    "\n",
    "labels = ['Nutuk','Great Expectations','Madame Bovary','Unknown']\n",
    "\n",
    "dists = np.zeros((4,4))\n",
    "for i in range(3):\n",
    "    for j in range(i+1,4):\n",
    "        dists[i,j] = entropy(probs[i],probs[j]) + entropy(probs[j],probs[i])\n",
    "        dists[j,i] = dists[i,j]\n",
    "\n",
    "pd.DataFrame(dists,index=labels,columns=labels)"
   ]
  },
  {
   "cell_type": "markdown",
   "id": "micro-vector",
   "metadata": {},
   "source": [
    "If we inspect the distance matrix, we see that the unknown text is closest to *Great Expectations* and therefore is most likely in English. "
   ]
  },
  {
   "cell_type": "markdown",
   "id": "shared-floating",
   "metadata": {},
   "source": [
    "## Question #2\n",
    "\n",
    "For this question consider the [Car Evaluation Data Set](https://archive.ics.uci.edu/ml/datasets/Car+Evaluation) from UCI. Here is the [direct link](https://archive.ics.uci.edu/ml/machine-learning-databases/car/car.data) to the dataset.\n",
    "\n",
    "Make [contingency tables](https://en.wikipedia.org/wiki/Contingency_table#:~:text=In%20statistics%2C%20a%20contingency%20table,%2C%20engineering%2C%20and%20scientific%20research.) of the columns (using [`crosstab`](https://pandas.pydata.org/docs/reference/api/pandas.crosstab.html) function from [pandas](https://pandas.pydata.org)) and figure out which pairs of columns are dependent and independent. Explain your result using statistical tests."
   ]
  },
  {
   "cell_type": "markdown",
   "id": "traditional-matrix",
   "metadata": {},
   "source": [
    "# Answer\n",
    "\n",
    "Let us start by loading the data."
   ]
  },
  {
   "cell_type": "code",
   "execution_count": 6,
   "id": "restricted-yemen",
   "metadata": {},
   "outputs": [
    {
     "data": {
      "text/html": [
       "<div>\n",
       "<style scoped>\n",
       "    .dataframe tbody tr th:only-of-type {\n",
       "        vertical-align: middle;\n",
       "    }\n",
       "\n",
       "    .dataframe tbody tr th {\n",
       "        vertical-align: top;\n",
       "    }\n",
       "\n",
       "    .dataframe thead th {\n",
       "        text-align: right;\n",
       "    }\n",
       "</style>\n",
       "<table border=\"1\" class=\"dataframe\">\n",
       "  <thead>\n",
       "    <tr style=\"text-align: right;\">\n",
       "      <th></th>\n",
       "      <th>class</th>\n",
       "      <th>buying</th>\n",
       "      <th>maint</th>\n",
       "      <th>doors</th>\n",
       "      <th>persons</th>\n",
       "      <th>log_boot</th>\n",
       "      <th>safety</th>\n",
       "    </tr>\n",
       "  </thead>\n",
       "  <tbody>\n",
       "    <tr>\n",
       "      <th>0</th>\n",
       "      <td>vhigh</td>\n",
       "      <td>vhigh</td>\n",
       "      <td>2</td>\n",
       "      <td>2</td>\n",
       "      <td>small</td>\n",
       "      <td>low</td>\n",
       "      <td>unacc</td>\n",
       "    </tr>\n",
       "    <tr>\n",
       "      <th>1</th>\n",
       "      <td>vhigh</td>\n",
       "      <td>vhigh</td>\n",
       "      <td>2</td>\n",
       "      <td>2</td>\n",
       "      <td>small</td>\n",
       "      <td>med</td>\n",
       "      <td>unacc</td>\n",
       "    </tr>\n",
       "    <tr>\n",
       "      <th>2</th>\n",
       "      <td>vhigh</td>\n",
       "      <td>vhigh</td>\n",
       "      <td>2</td>\n",
       "      <td>2</td>\n",
       "      <td>small</td>\n",
       "      <td>high</td>\n",
       "      <td>unacc</td>\n",
       "    </tr>\n",
       "    <tr>\n",
       "      <th>3</th>\n",
       "      <td>vhigh</td>\n",
       "      <td>vhigh</td>\n",
       "      <td>2</td>\n",
       "      <td>2</td>\n",
       "      <td>med</td>\n",
       "      <td>low</td>\n",
       "      <td>unacc</td>\n",
       "    </tr>\n",
       "    <tr>\n",
       "      <th>4</th>\n",
       "      <td>vhigh</td>\n",
       "      <td>vhigh</td>\n",
       "      <td>2</td>\n",
       "      <td>2</td>\n",
       "      <td>med</td>\n",
       "      <td>med</td>\n",
       "      <td>unacc</td>\n",
       "    </tr>\n",
       "  </tbody>\n",
       "</table>\n",
       "</div>"
      ],
      "text/plain": [
       "   class buying maint doors persons log_boot safety\n",
       "0  vhigh  vhigh     2     2   small      low  unacc\n",
       "1  vhigh  vhigh     2     2   small      med  unacc\n",
       "2  vhigh  vhigh     2     2   small     high  unacc\n",
       "3  vhigh  vhigh     2     2     med      low  unacc\n",
       "4  vhigh  vhigh     2     2     med      med  unacc"
      ]
     },
     "execution_count": 6,
     "metadata": {},
     "output_type": "execute_result"
    }
   ],
   "source": [
    "columns = ['class','buying','maint','doors','persons','log_boot','safety']\n",
    "\n",
    "data = pd.read_csv('https://archive.ics.uci.edu/ml/machine-learning-databases/car/car.data',\n",
    "                   header=None)\n",
    "\n",
    "data.columns = columns\n",
    "data.head()"
   ]
  },
  {
   "cell_type": "markdown",
   "id": "resident-basis",
   "metadata": {},
   "source": [
    "We are going to use Chi Square test on the contingency tables. However, the test result allows us to decide that there is a correlation between chosen columns **only if** the p-value is less than a critical threshold which is usually taken to be 0.05."
   ]
  },
  {
   "cell_type": "code",
   "execution_count": 7,
   "id": "manufactured-import",
   "metadata": {},
   "outputs": [
    {
     "data": {
      "text/html": [
       "<div>\n",
       "<style scoped>\n",
       "    .dataframe tbody tr th:only-of-type {\n",
       "        vertical-align: middle;\n",
       "    }\n",
       "\n",
       "    .dataframe tbody tr th {\n",
       "        vertical-align: top;\n",
       "    }\n",
       "\n",
       "    .dataframe thead th {\n",
       "        text-align: right;\n",
       "    }\n",
       "</style>\n",
       "<table border=\"1\" class=\"dataframe\">\n",
       "  <thead>\n",
       "    <tr style=\"text-align: right;\">\n",
       "      <th></th>\n",
       "      <th>class</th>\n",
       "      <th>buying</th>\n",
       "      <th>maint</th>\n",
       "      <th>doors</th>\n",
       "      <th>persons</th>\n",
       "      <th>log_boot</th>\n",
       "      <th>safety</th>\n",
       "    </tr>\n",
       "  </thead>\n",
       "  <tbody>\n",
       "    <tr>\n",
       "      <th>class</th>\n",
       "      <td>0.0</td>\n",
       "      <td>0.000000</td>\n",
       "      <td>0.0</td>\n",
       "      <td>0.000000</td>\n",
       "      <td>0.000000</td>\n",
       "      <td>0.000000</td>\n",
       "      <td>2122.000000</td>\n",
       "    </tr>\n",
       "    <tr>\n",
       "      <th>buying</th>\n",
       "      <td>0.0</td>\n",
       "      <td>0.000000</td>\n",
       "      <td>0.0</td>\n",
       "      <td>0.000000</td>\n",
       "      <td>0.000000</td>\n",
       "      <td>0.000000</td>\n",
       "      <td>2104.481481</td>\n",
       "    </tr>\n",
       "    <tr>\n",
       "      <th>maint</th>\n",
       "      <td>0.0</td>\n",
       "      <td>0.000000</td>\n",
       "      <td>0.0</td>\n",
       "      <td>0.000000</td>\n",
       "      <td>0.000000</td>\n",
       "      <td>0.000000</td>\n",
       "      <td>2034.000000</td>\n",
       "    </tr>\n",
       "    <tr>\n",
       "      <th>doors</th>\n",
       "      <td>0.0</td>\n",
       "      <td>0.000000</td>\n",
       "      <td>0.0</td>\n",
       "      <td>0.000000</td>\n",
       "      <td>0.000000</td>\n",
       "      <td>0.000000</td>\n",
       "      <td>2515.847222</td>\n",
       "    </tr>\n",
       "    <tr>\n",
       "      <th>persons</th>\n",
       "      <td>0.0</td>\n",
       "      <td>0.000000</td>\n",
       "      <td>0.0</td>\n",
       "      <td>0.000000</td>\n",
       "      <td>0.000000</td>\n",
       "      <td>0.000000</td>\n",
       "      <td>2059.444444</td>\n",
       "    </tr>\n",
       "    <tr>\n",
       "      <th>log_boot</th>\n",
       "      <td>0.0</td>\n",
       "      <td>0.000000</td>\n",
       "      <td>0.0</td>\n",
       "      <td>0.000000</td>\n",
       "      <td>0.000000</td>\n",
       "      <td>0.000000</td>\n",
       "      <td>2554.055556</td>\n",
       "    </tr>\n",
       "    <tr>\n",
       "      <th>safety</th>\n",
       "      <td>2122.0</td>\n",
       "      <td>2104.481481</td>\n",
       "      <td>2034.0</td>\n",
       "      <td>2515.847222</td>\n",
       "      <td>2059.444444</td>\n",
       "      <td>2554.055556</td>\n",
       "      <td>0.000000</td>\n",
       "    </tr>\n",
       "  </tbody>\n",
       "</table>\n",
       "</div>"
      ],
      "text/plain": [
       "           class       buying   maint        doors      persons     log_boot  \\\n",
       "class        0.0     0.000000     0.0     0.000000     0.000000     0.000000   \n",
       "buying       0.0     0.000000     0.0     0.000000     0.000000     0.000000   \n",
       "maint        0.0     0.000000     0.0     0.000000     0.000000     0.000000   \n",
       "doors        0.0     0.000000     0.0     0.000000     0.000000     0.000000   \n",
       "persons      0.0     0.000000     0.0     0.000000     0.000000     0.000000   \n",
       "log_boot     0.0     0.000000     0.0     0.000000     0.000000     0.000000   \n",
       "safety    2122.0  2104.481481  2034.0  2515.847222  2059.444444  2554.055556   \n",
       "\n",
       "               safety  \n",
       "class     2122.000000  \n",
       "buying    2104.481481  \n",
       "maint     2034.000000  \n",
       "doors     2515.847222  \n",
       "persons   2059.444444  \n",
       "log_boot  2554.055556  \n",
       "safety       0.000000  "
      ]
     },
     "execution_count": 7,
     "metadata": {},
     "output_type": "execute_result"
    }
   ],
   "source": [
    "from scipy.stats import chisquare\n",
    "\n",
    "stats = np.zeros((7,7))\n",
    "\n",
    "for i in range(6):\n",
    "    for j in range(i+1,7):\n",
    "        tmp = pd.crosstab(data.iloc[:,i],data.iloc[:,j])\n",
    "        res = chisquare(tmp,axis=None)\n",
    "        if res.pvalue <= 0.05:\n",
    "            stats[i,j] = res.statistic\n",
    "            stats[j,i] = stats[i,j]\n",
    "            \n",
    "pd.DataFrame(stats,index=columns,columns=columns)"
   ]
  },
  {
   "cell_type": "markdown",
   "id": "prescribed-highlight",
   "metadata": {},
   "source": [
    "The results indicate that the only meaning correlations are between safety column and the rest, and the `log_boot` and `doors` columns are the columns that are most related with the `safety` column."
   ]
  },
  {
   "cell_type": "markdown",
   "id": "chubby-retail",
   "metadata": {},
   "source": [
    "## Question #3\n",
    "\n",
    "For this question, use [Default of Credit Card Clients Data Set]() from UCI. Here is the [direct link](https://archive.ics.uci.edu/ml/machine-learning-databases/00350/default%20of%20credit%20card%20clients.xls) to the dataset.\n",
    "\n",
    "Your tasks are\n",
    "\n",
    "* Inspect the dataset.\n",
    "* Would it be appropriate to form a linear regression model to predict the `default payment next month` variable? Explain.\n",
    "* Form a [contingency table](https://en.wikipedia.org/wiki/Contingency_table#:~:text=In%20statistics%2C%20a%20contingency%20table,%2C%20engineering%2C%20and%20scientific%20research.) of the columns `SEX` vs `default payment next month` and `EDUCATION` vs `default payment next month`.\n",
    "* Are there statistically verifiable relationships between credit card defaults, the gender of and the education level the borrower? Which is stronger? Quantify your analysis using [Chi Square Test](https://en.wikipedia.org/wiki/Chi-squared_test)."
   ]
  },
  {
   "cell_type": "markdown",
   "id": "special-credits",
   "metadata": {},
   "source": [
    "# Answer\n",
    "\n",
    "Let us start by loading the data:\n"
   ]
  },
  {
   "cell_type": "code",
   "execution_count": 8,
   "id": "vertical-exchange",
   "metadata": {},
   "outputs": [
    {
     "data": {
      "text/html": [
       "<div>\n",
       "<style scoped>\n",
       "    .dataframe tbody tr th:only-of-type {\n",
       "        vertical-align: middle;\n",
       "    }\n",
       "\n",
       "    .dataframe tbody tr th {\n",
       "        vertical-align: top;\n",
       "    }\n",
       "\n",
       "    .dataframe thead th {\n",
       "        text-align: right;\n",
       "    }\n",
       "</style>\n",
       "<table border=\"1\" class=\"dataframe\">\n",
       "  <thead>\n",
       "    <tr style=\"text-align: right;\">\n",
       "      <th></th>\n",
       "      <th>ID</th>\n",
       "      <th>LIMIT_BAL</th>\n",
       "      <th>SEX</th>\n",
       "      <th>EDUCATION</th>\n",
       "      <th>MARRIAGE</th>\n",
       "      <th>AGE</th>\n",
       "      <th>PAY_0</th>\n",
       "      <th>PAY_2</th>\n",
       "      <th>PAY_3</th>\n",
       "      <th>PAY_4</th>\n",
       "      <th>...</th>\n",
       "      <th>BILL_AMT4</th>\n",
       "      <th>BILL_AMT5</th>\n",
       "      <th>BILL_AMT6</th>\n",
       "      <th>PAY_AMT1</th>\n",
       "      <th>PAY_AMT2</th>\n",
       "      <th>PAY_AMT3</th>\n",
       "      <th>PAY_AMT4</th>\n",
       "      <th>PAY_AMT5</th>\n",
       "      <th>PAY_AMT6</th>\n",
       "      <th>default payment next month</th>\n",
       "    </tr>\n",
       "  </thead>\n",
       "  <tbody>\n",
       "    <tr>\n",
       "      <th>0</th>\n",
       "      <td>1</td>\n",
       "      <td>20000</td>\n",
       "      <td>2</td>\n",
       "      <td>2</td>\n",
       "      <td>1</td>\n",
       "      <td>24</td>\n",
       "      <td>2</td>\n",
       "      <td>2</td>\n",
       "      <td>-1</td>\n",
       "      <td>-1</td>\n",
       "      <td>...</td>\n",
       "      <td>0</td>\n",
       "      <td>0</td>\n",
       "      <td>0</td>\n",
       "      <td>0</td>\n",
       "      <td>689</td>\n",
       "      <td>0</td>\n",
       "      <td>0</td>\n",
       "      <td>0</td>\n",
       "      <td>0</td>\n",
       "      <td>1</td>\n",
       "    </tr>\n",
       "    <tr>\n",
       "      <th>1</th>\n",
       "      <td>2</td>\n",
       "      <td>120000</td>\n",
       "      <td>2</td>\n",
       "      <td>2</td>\n",
       "      <td>2</td>\n",
       "      <td>26</td>\n",
       "      <td>-1</td>\n",
       "      <td>2</td>\n",
       "      <td>0</td>\n",
       "      <td>0</td>\n",
       "      <td>...</td>\n",
       "      <td>3272</td>\n",
       "      <td>3455</td>\n",
       "      <td>3261</td>\n",
       "      <td>0</td>\n",
       "      <td>1000</td>\n",
       "      <td>1000</td>\n",
       "      <td>1000</td>\n",
       "      <td>0</td>\n",
       "      <td>2000</td>\n",
       "      <td>1</td>\n",
       "    </tr>\n",
       "    <tr>\n",
       "      <th>2</th>\n",
       "      <td>3</td>\n",
       "      <td>90000</td>\n",
       "      <td>2</td>\n",
       "      <td>2</td>\n",
       "      <td>2</td>\n",
       "      <td>34</td>\n",
       "      <td>0</td>\n",
       "      <td>0</td>\n",
       "      <td>0</td>\n",
       "      <td>0</td>\n",
       "      <td>...</td>\n",
       "      <td>14331</td>\n",
       "      <td>14948</td>\n",
       "      <td>15549</td>\n",
       "      <td>1518</td>\n",
       "      <td>1500</td>\n",
       "      <td>1000</td>\n",
       "      <td>1000</td>\n",
       "      <td>1000</td>\n",
       "      <td>5000</td>\n",
       "      <td>0</td>\n",
       "    </tr>\n",
       "    <tr>\n",
       "      <th>3</th>\n",
       "      <td>4</td>\n",
       "      <td>50000</td>\n",
       "      <td>2</td>\n",
       "      <td>2</td>\n",
       "      <td>1</td>\n",
       "      <td>37</td>\n",
       "      <td>0</td>\n",
       "      <td>0</td>\n",
       "      <td>0</td>\n",
       "      <td>0</td>\n",
       "      <td>...</td>\n",
       "      <td>28314</td>\n",
       "      <td>28959</td>\n",
       "      <td>29547</td>\n",
       "      <td>2000</td>\n",
       "      <td>2019</td>\n",
       "      <td>1200</td>\n",
       "      <td>1100</td>\n",
       "      <td>1069</td>\n",
       "      <td>1000</td>\n",
       "      <td>0</td>\n",
       "    </tr>\n",
       "    <tr>\n",
       "      <th>4</th>\n",
       "      <td>5</td>\n",
       "      <td>50000</td>\n",
       "      <td>1</td>\n",
       "      <td>2</td>\n",
       "      <td>1</td>\n",
       "      <td>57</td>\n",
       "      <td>-1</td>\n",
       "      <td>0</td>\n",
       "      <td>-1</td>\n",
       "      <td>0</td>\n",
       "      <td>...</td>\n",
       "      <td>20940</td>\n",
       "      <td>19146</td>\n",
       "      <td>19131</td>\n",
       "      <td>2000</td>\n",
       "      <td>36681</td>\n",
       "      <td>10000</td>\n",
       "      <td>9000</td>\n",
       "      <td>689</td>\n",
       "      <td>679</td>\n",
       "      <td>0</td>\n",
       "    </tr>\n",
       "  </tbody>\n",
       "</table>\n",
       "<p>5 rows × 25 columns</p>\n",
       "</div>"
      ],
      "text/plain": [
       "   ID  LIMIT_BAL  SEX  EDUCATION  MARRIAGE  AGE  PAY_0  PAY_2  PAY_3  PAY_4  \\\n",
       "0   1      20000    2          2         1   24      2      2     -1     -1   \n",
       "1   2     120000    2          2         2   26     -1      2      0      0   \n",
       "2   3      90000    2          2         2   34      0      0      0      0   \n",
       "3   4      50000    2          2         1   37      0      0      0      0   \n",
       "4   5      50000    1          2         1   57     -1      0     -1      0   \n",
       "\n",
       "   ...  BILL_AMT4  BILL_AMT5  BILL_AMT6  PAY_AMT1  PAY_AMT2  PAY_AMT3  \\\n",
       "0  ...          0          0          0         0       689         0   \n",
       "1  ...       3272       3455       3261         0      1000      1000   \n",
       "2  ...      14331      14948      15549      1518      1500      1000   \n",
       "3  ...      28314      28959      29547      2000      2019      1200   \n",
       "4  ...      20940      19146      19131      2000     36681     10000   \n",
       "\n",
       "   PAY_AMT4  PAY_AMT5  PAY_AMT6  default payment next month  \n",
       "0         0         0         0                           1  \n",
       "1      1000         0      2000                           1  \n",
       "2      1000      1000      5000                           0  \n",
       "3      1100      1069      1000                           0  \n",
       "4      9000       689       679                           0  \n",
       "\n",
       "[5 rows x 25 columns]"
      ]
     },
     "execution_count": 8,
     "metadata": {},
     "output_type": "execute_result"
    }
   ],
   "source": [
    "data = pd.read_excel('https://archive.ics.uci.edu/ml/machine-learning-databases/00350/default%20of%20credit%20card%20clients.xls',\n",
    "                    header=1)\n",
    "data.head()"
   ]
  },
  {
   "cell_type": "markdown",
   "id": "integrated-summit",
   "metadata": {},
   "source": [
    "We did not discuss this in class but, we need to look at the correlation matrix to decide which variables to drop."
   ]
  },
  {
   "cell_type": "code",
   "execution_count": 9,
   "id": "mysterious-velvet",
   "metadata": {},
   "outputs": [
    {
     "data": {
      "text/plain": [
       "<AxesSubplot:>"
      ]
     },
     "execution_count": 9,
     "metadata": {},
     "output_type": "execute_result"
    },
    {
     "data": {
      "image/png": "[encoded data removed]",
      "text/plain": [
       "<Figure size 792x576 with 2 Axes>"
      ]
     },
     "metadata": {
      "needs_background": "light"
     },
     "output_type": "display_data"
    }
   ],
   "source": [
    "from matplotlib import pyplot as plt\n",
    "import seaborn as sns\n",
    "\n",
    "plt.figure(figsize=(11, 8))\n",
    "sns.heatmap(data.corr(), cmap='bone')"
   ]
  },
  {
   "cell_type": "markdown",
   "id": "animated-damages",
   "metadata": {},
   "source": [
    "The results above indicate that the variable groups PAY_0,...,PAY_5 and BILL_AMT1,...,BILL_AMT5 are highly correlated among themselves. This means we should use only one from each group to make the regression model to fit better.\n",
    "\n",
    "Next, let us look at the last column:"
   ]
  },
  {
   "cell_type": "code",
   "execution_count": 10,
   "id": "monthly-church",
   "metadata": {},
   "outputs": [
    {
     "data": {
      "text/plain": [
       "array([0, 1])"
      ]
     },
     "execution_count": 10,
     "metadata": {},
     "output_type": "execute_result"
    }
   ],
   "source": [
    "np.unique(data['default payment next month'])"
   ]
  },
  {
   "cell_type": "markdown",
   "id": "danish-westminster",
   "metadata": {},
   "source": [
    "The result indicates that the column is not a numerical column. It contains only two values. As such ordinary OLS regression is not suitable. The only regression model that we can use is *logistic regression*.\n",
    "\n",
    "Next, let us form the contingency tables:"
   ]
  },
  {
   "cell_type": "code",
   "execution_count": 11,
   "id": "killing-occurrence",
   "metadata": {},
   "outputs": [
    {
     "data": {
      "text/html": [
       "<div>\n",
       "<style scoped>\n",
       "    .dataframe tbody tr th:only-of-type {\n",
       "        vertical-align: middle;\n",
       "    }\n",
       "\n",
       "    .dataframe tbody tr th {\n",
       "        vertical-align: top;\n",
       "    }\n",
       "\n",
       "    .dataframe thead th {\n",
       "        text-align: right;\n",
       "    }\n",
       "</style>\n",
       "<table border=\"1\" class=\"dataframe\">\n",
       "  <thead>\n",
       "    <tr style=\"text-align: right;\">\n",
       "      <th>default payment next month</th>\n",
       "      <th>0</th>\n",
       "      <th>1</th>\n",
       "    </tr>\n",
       "    <tr>\n",
       "      <th>SEX</th>\n",
       "      <th></th>\n",
       "      <th></th>\n",
       "    </tr>\n",
       "  </thead>\n",
       "  <tbody>\n",
       "    <tr>\n",
       "      <th>1</th>\n",
       "      <td>9015</td>\n",
       "      <td>2873</td>\n",
       "    </tr>\n",
       "    <tr>\n",
       "      <th>2</th>\n",
       "      <td>14349</td>\n",
       "      <td>3763</td>\n",
       "    </tr>\n",
       "  </tbody>\n",
       "</table>\n",
       "</div>"
      ],
      "text/plain": [
       "default payment next month      0     1\n",
       "SEX                                    \n",
       "1                            9015  2873\n",
       "2                           14349  3763"
      ]
     },
     "execution_count": 11,
     "metadata": {},
     "output_type": "execute_result"
    }
   ],
   "source": [
    "pd.crosstab(data['SEX'],data['default payment next month'])"
   ]
  },
  {
   "cell_type": "code",
   "execution_count": 12,
   "id": "sticky-postage",
   "metadata": {},
   "outputs": [
    {
     "data": {
      "text/html": [
       "<div>\n",
       "<style scoped>\n",
       "    .dataframe tbody tr th:only-of-type {\n",
       "        vertical-align: middle;\n",
       "    }\n",
       "\n",
       "    .dataframe tbody tr th {\n",
       "        vertical-align: top;\n",
       "    }\n",
       "\n",
       "    .dataframe thead th {\n",
       "        text-align: right;\n",
       "    }\n",
       "</style>\n",
       "<table border=\"1\" class=\"dataframe\">\n",
       "  <thead>\n",
       "    <tr style=\"text-align: right;\">\n",
       "      <th>default payment next month</th>\n",
       "      <th>0</th>\n",
       "      <th>1</th>\n",
       "    </tr>\n",
       "    <tr>\n",
       "      <th>EDUCATION</th>\n",
       "      <th></th>\n",
       "      <th></th>\n",
       "    </tr>\n",
       "  </thead>\n",
       "  <tbody>\n",
       "    <tr>\n",
       "      <th>0</th>\n",
       "      <td>14</td>\n",
       "      <td>0</td>\n",
       "    </tr>\n",
       "    <tr>\n",
       "      <th>1</th>\n",
       "      <td>8549</td>\n",
       "      <td>2036</td>\n",
       "    </tr>\n",
       "    <tr>\n",
       "      <th>2</th>\n",
       "      <td>10700</td>\n",
       "      <td>3330</td>\n",
       "    </tr>\n",
       "    <tr>\n",
       "      <th>3</th>\n",
       "      <td>3680</td>\n",
       "      <td>1237</td>\n",
       "    </tr>\n",
       "    <tr>\n",
       "      <th>4</th>\n",
       "      <td>116</td>\n",
       "      <td>7</td>\n",
       "    </tr>\n",
       "    <tr>\n",
       "      <th>5</th>\n",
       "      <td>262</td>\n",
       "      <td>18</td>\n",
       "    </tr>\n",
       "    <tr>\n",
       "      <th>6</th>\n",
       "      <td>43</td>\n",
       "      <td>8</td>\n",
       "    </tr>\n",
       "  </tbody>\n",
       "</table>\n",
       "</div>"
      ],
      "text/plain": [
       "default payment next month      0     1\n",
       "EDUCATION                              \n",
       "0                              14     0\n",
       "1                            8549  2036\n",
       "2                           10700  3330\n",
       "3                            3680  1237\n",
       "4                             116     7\n",
       "5                             262    18\n",
       "6                              43     8"
      ]
     },
     "execution_count": 12,
     "metadata": {},
     "output_type": "execute_result"
    }
   ],
   "source": [
    "pd.crosstab(data['EDUCATION'],data['default payment next month'])"
   ]
  },
  {
   "cell_type": "markdown",
   "id": "amino-omaha",
   "metadata": {},
   "source": [
    "The numbers you see above are counts. To see if there are any correlations, we should look at the probabilities. For that we need to normalize:"
   ]
  },
  {
   "cell_type": "code",
   "execution_count": 13,
   "id": "distant-sierra",
   "metadata": {},
   "outputs": [
    {
     "name": "stdout",
     "output_type": "stream",
     "text": [
      "Power_divergenceResult(statistic=array([0.00074157, 0.00255844]), pvalue=array([0.97827487, 0.9596594 ]))\n"
     ]
    },
    {
     "data": {
      "text/html": [
       "<div>\n",
       "<style scoped>\n",
       "    .dataframe tbody tr th:only-of-type {\n",
       "        vertical-align: middle;\n",
       "    }\n",
       "\n",
       "    .dataframe tbody tr th {\n",
       "        vertical-align: top;\n",
       "    }\n",
       "\n",
       "    .dataframe thead th {\n",
       "        text-align: right;\n",
       "    }\n",
       "</style>\n",
       "<table border=\"1\" class=\"dataframe\">\n",
       "  <thead>\n",
       "    <tr style=\"text-align: right;\">\n",
       "      <th>default payment next month</th>\n",
       "      <th>0</th>\n",
       "      <th>1</th>\n",
       "    </tr>\n",
       "    <tr>\n",
       "      <th>SEX</th>\n",
       "      <th></th>\n",
       "      <th></th>\n",
       "    </tr>\n",
       "  </thead>\n",
       "  <tbody>\n",
       "    <tr>\n",
       "      <th>1</th>\n",
       "      <td>0.758328</td>\n",
       "      <td>0.241672</td>\n",
       "    </tr>\n",
       "    <tr>\n",
       "      <th>2</th>\n",
       "      <td>0.792237</td>\n",
       "      <td>0.207763</td>\n",
       "    </tr>\n",
       "  </tbody>\n",
       "</table>\n",
       "</div>"
      ],
      "text/plain": [
       "default payment next month         0         1\n",
       "SEX                                           \n",
       "1                           0.758328  0.241672\n",
       "2                           0.792237  0.207763"
      ]
     },
     "execution_count": 13,
     "metadata": {},
     "output_type": "execute_result"
    }
   ],
   "source": [
    "sex_vs_default = pd.crosstab(data['SEX'],data['default payment next month'],normalize=0)\n",
    "print(chisquare(sex_vs_default))\n",
    "sex_vs_default"
   ]
  },
  {
   "cell_type": "code",
   "execution_count": 14,
   "id": "earlier-tournament",
   "metadata": {},
   "outputs": [
    {
     "name": "stdout",
     "output_type": "stream",
     "text": [
      "Power_divergenceResult(statistic=array([0.0661984, 0.4168347]), pvalue=array([0.9999941 , 0.99870842]))\n"
     ]
    },
    {
     "data": {
      "text/html": [
       "<div>\n",
       "<style scoped>\n",
       "    .dataframe tbody tr th:only-of-type {\n",
       "        vertical-align: middle;\n",
       "    }\n",
       "\n",
       "    .dataframe tbody tr th {\n",
       "        vertical-align: top;\n",
       "    }\n",
       "\n",
       "    .dataframe thead th {\n",
       "        text-align: right;\n",
       "    }\n",
       "</style>\n",
       "<table border=\"1\" class=\"dataframe\">\n",
       "  <thead>\n",
       "    <tr style=\"text-align: right;\">\n",
       "      <th>default payment next month</th>\n",
       "      <th>0</th>\n",
       "      <th>1</th>\n",
       "    </tr>\n",
       "    <tr>\n",
       "      <th>EDUCATION</th>\n",
       "      <th></th>\n",
       "      <th></th>\n",
       "    </tr>\n",
       "  </thead>\n",
       "  <tbody>\n",
       "    <tr>\n",
       "      <th>0</th>\n",
       "      <td>1.000000</td>\n",
       "      <td>0.000000</td>\n",
       "    </tr>\n",
       "    <tr>\n",
       "      <th>1</th>\n",
       "      <td>0.807652</td>\n",
       "      <td>0.192348</td>\n",
       "    </tr>\n",
       "    <tr>\n",
       "      <th>2</th>\n",
       "      <td>0.762651</td>\n",
       "      <td>0.237349</td>\n",
       "    </tr>\n",
       "    <tr>\n",
       "      <th>3</th>\n",
       "      <td>0.748424</td>\n",
       "      <td>0.251576</td>\n",
       "    </tr>\n",
       "    <tr>\n",
       "      <th>4</th>\n",
       "      <td>0.943089</td>\n",
       "      <td>0.056911</td>\n",
       "    </tr>\n",
       "    <tr>\n",
       "      <th>5</th>\n",
       "      <td>0.935714</td>\n",
       "      <td>0.064286</td>\n",
       "    </tr>\n",
       "    <tr>\n",
       "      <th>6</th>\n",
       "      <td>0.843137</td>\n",
       "      <td>0.156863</td>\n",
       "    </tr>\n",
       "  </tbody>\n",
       "</table>\n",
       "</div>"
      ],
      "text/plain": [
       "default payment next month         0         1\n",
       "EDUCATION                                     \n",
       "0                           1.000000  0.000000\n",
       "1                           0.807652  0.192348\n",
       "2                           0.762651  0.237349\n",
       "3                           0.748424  0.251576\n",
       "4                           0.943089  0.056911\n",
       "5                           0.935714  0.064286\n",
       "6                           0.843137  0.156863"
      ]
     },
     "execution_count": 14,
     "metadata": {},
     "output_type": "execute_result"
    }
   ],
   "source": [
    "education_vs_default = pd.crosstab(data['EDUCATION'],data['default payment next month'],normalize=0)\n",
    "print(chisquare(education_vs_default))\n",
    "education_vs_default"
   ]
  },
  {
   "cell_type": "markdown",
   "id": "historic-concentration",
   "metadata": {},
   "source": [
    "The results above indicate that there is no statistically verifiable correlation between education of the barrower and defaulting a loan, or sex of the barrower and defaulting a loan."
   ]
  },
  {
   "cell_type": "markdown",
   "id": "alternate-communication",
   "metadata": {},
   "source": [
    "## Question #4\n",
    "\n",
    "For this question, use the [Iris Dataset](https://archive.ics.uci.edu/ml/datasets/iris) from UCI.  Here is the [direct link](https://archive.ics.uci.edu/ml/machine-learning-databases/iris/iris.data) to the dataset.\n",
    "\n",
    "Your tasks are\n",
    "\n",
    "* Form a [K-NN](https://scikit-learn.org/stable/modules/generated/sklearn.neighbors.KNeighborsClassifier.html) model for this dataset.\n",
    "* Test your model on random samples of your data and calculate its accuracy.\n",
    "* Repeat your calculation 100 times and give an interval of accuracy values leaving the best 2.5% and worst 2.5% accuracy values.\n",
    "* Is there a better way of doing this without repeating the calculation 100 times? Explain.\n",
    "* Find the best parameter $k$ for your dataset for the K-NN model."
   ]
  },
  {
   "cell_type": "markdown",
   "id": "handmade-leisure",
   "metadata": {},
   "source": [
    "# Answer\n",
    "\n",
    "Let us start with loading the data."
   ]
  },
  {
   "cell_type": "code",
   "execution_count": 30,
   "id": "western-farming",
   "metadata": {},
   "outputs": [
    {
     "data": {
      "text/html": [
       "<div>\n",
       "<style scoped>\n",
       "    .dataframe tbody tr th:only-of-type {\n",
       "        vertical-align: middle;\n",
       "    }\n",
       "\n",
       "    .dataframe tbody tr th {\n",
       "        vertical-align: top;\n",
       "    }\n",
       "\n",
       "    .dataframe thead th {\n",
       "        text-align: right;\n",
       "    }\n",
       "</style>\n",
       "<table border=\"1\" class=\"dataframe\">\n",
       "  <thead>\n",
       "    <tr style=\"text-align: right;\">\n",
       "      <th></th>\n",
       "      <th>0</th>\n",
       "      <th>1</th>\n",
       "      <th>2</th>\n",
       "      <th>3</th>\n",
       "      <th>4</th>\n",
       "    </tr>\n",
       "  </thead>\n",
       "  <tbody>\n",
       "    <tr>\n",
       "      <th>0</th>\n",
       "      <td>5.1</td>\n",
       "      <td>3.5</td>\n",
       "      <td>1.4</td>\n",
       "      <td>0.2</td>\n",
       "      <td>Iris-setosa</td>\n",
       "    </tr>\n",
       "    <tr>\n",
       "      <th>1</th>\n",
       "      <td>4.9</td>\n",
       "      <td>3.0</td>\n",
       "      <td>1.4</td>\n",
       "      <td>0.2</td>\n",
       "      <td>Iris-setosa</td>\n",
       "    </tr>\n",
       "    <tr>\n",
       "      <th>2</th>\n",
       "      <td>4.7</td>\n",
       "      <td>3.2</td>\n",
       "      <td>1.3</td>\n",
       "      <td>0.2</td>\n",
       "      <td>Iris-setosa</td>\n",
       "    </tr>\n",
       "    <tr>\n",
       "      <th>3</th>\n",
       "      <td>4.6</td>\n",
       "      <td>3.1</td>\n",
       "      <td>1.5</td>\n",
       "      <td>0.2</td>\n",
       "      <td>Iris-setosa</td>\n",
       "    </tr>\n",
       "    <tr>\n",
       "      <th>4</th>\n",
       "      <td>5.0</td>\n",
       "      <td>3.6</td>\n",
       "      <td>1.4</td>\n",
       "      <td>0.2</td>\n",
       "      <td>Iris-setosa</td>\n",
       "    </tr>\n",
       "  </tbody>\n",
       "</table>\n",
       "</div>"
      ],
      "text/plain": [
       "     0    1    2    3            4\n",
       "0  5.1  3.5  1.4  0.2  Iris-setosa\n",
       "1  4.9  3.0  1.4  0.2  Iris-setosa\n",
       "2  4.7  3.2  1.3  0.2  Iris-setosa\n",
       "3  4.6  3.1  1.5  0.2  Iris-setosa\n",
       "4  5.0  3.6  1.4  0.2  Iris-setosa"
      ]
     },
     "execution_count": 30,
     "metadata": {},
     "output_type": "execute_result"
    }
   ],
   "source": [
    "data = pd.read_csv('https://archive.ics.uci.edu/ml/machine-learning-databases/iris/iris.data',header=None)\n",
    "data.head()"
   ]
  },
  {
   "cell_type": "markdown",
   "id": "japanese-spring",
   "metadata": {},
   "source": [
    "The first 4 columns are the independent variables and the last column is the dependent variable."
   ]
  },
  {
   "cell_type": "code",
   "execution_count": 31,
   "id": "wrong-particle",
   "metadata": {},
   "outputs": [],
   "source": [
    "X = data.iloc[:,0:4]\n",
    "y = data.iloc[:,4]"
   ]
  },
  {
   "cell_type": "markdown",
   "id": "general-pendant",
   "metadata": {},
   "source": [
    "I'll write a function that forms a KNN-model and then returns its accuracy:"
   ]
  },
  {
   "cell_type": "code",
   "execution_count": 32,
   "id": "actual-penalty",
   "metadata": {},
   "outputs": [],
   "source": [
    "from sklearn.neighbors import KNeighborsClassifier\n",
    "from sklearn.model_selection import train_test_split\n",
    "from sklearn.metrics import accuracy_score\n",
    "\n",
    "def makeKNNModel(k):\n",
    "    X_train, X_test, y_train, y_test = train_test_split(X,y,test_size=0.25)\n",
    "    model = KNeighborsClassifier(n_neighbors=k)\n",
    "    model.fit(X_train,y_train)\n",
    "    predicted = model.predict(X_test)\n",
    "    return accuracy_score(y_test,predicted)"
   ]
  },
  {
   "cell_type": "markdown",
   "id": "narrow-incident",
   "metadata": {},
   "source": [
    "Let us run the code to get an accuracy of the model for k=3 neighbors."
   ]
  },
  {
   "cell_type": "code",
   "execution_count": 33,
   "id": "distinguished-africa",
   "metadata": {},
   "outputs": [
    {
     "data": {
      "text/plain": [
       "0.9210526315789473"
      ]
     },
     "execution_count": 33,
     "metadata": {},
     "output_type": "execute_result"
    }
   ],
   "source": [
    "makeKNNModel(3)"
   ]
  },
  {
   "cell_type": "markdown",
   "id": "seeing-modification",
   "metadata": {},
   "source": [
    "Now, let us run the experiment 100 in a row and collect the accuracy scores."
   ]
  },
  {
   "cell_type": "code",
   "execution_count": 34,
   "id": "armed-kingdom",
   "metadata": {},
   "outputs": [],
   "source": [
    "accuracies = [makeKNNModel(3) for x in range(100)]"
   ]
  },
  {
   "cell_type": "markdown",
   "id": "inside-minute",
   "metadata": {},
   "source": [
    "Let us sort the results, and then drop the first and last 3 since we can't take the best 2.5 and worst 2.5 results of the 100 accuracy scores we collected."
   ]
  },
  {
   "cell_type": "code",
   "execution_count": 35,
   "id": "neural-wrist",
   "metadata": {},
   "outputs": [
    {
     "data": {
      "text/plain": [
       "[0.8947368421052632, 1.0]"
      ]
     },
     "execution_count": 35,
     "metadata": {},
     "output_type": "execute_result"
    }
   ],
   "source": [
    "truncated = sorted(accuracies)[2:98]\n",
    "[truncated[0],truncated[-1]]"
   ]
  },
  {
   "cell_type": "markdown",
   "id": "chemical-license",
   "metadata": {},
   "source": [
    "This is the actual 95% confidence interval of the results we collected. In 95% of the experiments, the accuracy of the KNN-model with k=3 lies between 89% and 100%.\n",
    "\n",
    "There is, however, a better way of getting the confidence interval from a smaller number of experiments. For that we use the t-test:"
   ]
  },
  {
   "cell_type": "code",
   "execution_count": 56,
   "id": "consistent-complex",
   "metadata": {},
   "outputs": [
    {
     "data": {
      "text/plain": [
       "(0.927363822070618, 0.9989519674030662)"
      ]
     },
     "execution_count": 56,
     "metadata": {},
     "output_type": "execute_result"
    }
   ],
   "source": [
    "from scipy.stats import t\n",
    "\n",
    "N = 5\n",
    "\n",
    "experiments = [makeKNNModel(3) for i in range(N)]\n",
    "\n",
    "m = np.mean(experiments)\n",
    "dev = np.std(experiments)\n",
    "\n",
    "t.interval(0.95, N-1, loc=m, scale=dev)"
   ]
  },
  {
   "cell_type": "markdown",
   "id": "impressive-portugal",
   "metadata": {},
   "source": [
    "From only 5 experiments, we can conclude that the accuracy of the KNN-model for k=3 is somewhere between 93% and 100%. This approach is useful when individual experiments are very expensive to calculate. Instead of repeating the experiments 100 times, we did it 5 times and got a confidence interval. \n",
    "\n",
    "As for choosing the best k, we repeat the experiment with different values of k. But remember, we need an odd number for k in each round."
   ]
  },
  {
   "cell_type": "code",
   "execution_count": 22,
   "id": "linear-switch",
   "metadata": {},
   "outputs": [
    {
     "data": {
      "text/plain": [
       "[<matplotlib.lines.Line2D at 0x7f173c0ecac0>]"
      ]
     },
     "execution_count": 22,
     "metadata": {},
     "output_type": "execute_result"
    },
    {
     "data": {
      "image/png": "[encoded data removed]",
      "text/plain": [
       "<Figure size 432x288 with 1 Axes>"
      ]
     },
     "metadata": {
      "needs_background": "light"
     },
     "output_type": "display_data"
    }
   ],
   "source": [
    "vals = [makeKNNModel(2*k+1) for k in range(14)]\n",
    "plt.plot(vals)"
   ]
  },
  {
   "cell_type": "markdown",
   "id": "separated-spanking",
   "metadata": {},
   "source": [
    "Run the experiement many times, and you'll see that in each experiment, the best k changes. This means, there is no best choice of k. Choose one and make sure that the accuracy you calculate is satisfactory enough. I'll do with k=11:"
   ]
  },
  {
   "cell_type": "code",
   "execution_count": 23,
   "id": "banned-ontario",
   "metadata": {},
   "outputs": [
    {
     "data": {
      "text/plain": [
       "0.9473684210526315"
      ]
     },
     "execution_count": 23,
     "metadata": {},
     "output_type": "execute_result"
    }
   ],
   "source": [
    "makeKNNModel(11)"
   ]
  },
  {
   "cell_type": "markdown",
   "id": "circular-stream",
   "metadata": {},
   "source": [
    "## Question #5\n",
    "\n",
    "For this question, we are going to use [Concrete Slump Test Dataset](https://archive.ics.uci.edu/ml/datasets/Concrete+Slump+Test) from UCI. Here is the [direct link](https://archive.ics.uci.edu/ml/machine-learning-databases/concrete/slump/slump_test.data) to the dataset.\n",
    "\n",
    "Your tasks are\n",
    "\n",
    "* Form three separate linear regression model for the following dependent variables:\n",
    "\n",
    "  - SLUMP (cm)\n",
    "  - FLOW (cm)\n",
    "  - 28-day Compressive Strength (Mpa)\n",
    "  \n",
    "* Compare how well these models fit."
   ]
  },
  {
   "cell_type": "markdown",
   "id": "killing-puzzle",
   "metadata": {},
   "source": [
    "# Answer\n",
    "\n",
    "Let us start by loading the data."
   ]
  },
  {
   "cell_type": "code",
   "execution_count": 24,
   "id": "bigger-ideal",
   "metadata": {},
   "outputs": [
    {
     "data": {
      "text/html": [
       "<div>\n",
       "<style scoped>\n",
       "    .dataframe tbody tr th:only-of-type {\n",
       "        vertical-align: middle;\n",
       "    }\n",
       "\n",
       "    .dataframe tbody tr th {\n",
       "        vertical-align: top;\n",
       "    }\n",
       "\n",
       "    .dataframe thead th {\n",
       "        text-align: right;\n",
       "    }\n",
       "</style>\n",
       "<table border=\"1\" class=\"dataframe\">\n",
       "  <thead>\n",
       "    <tr style=\"text-align: right;\">\n",
       "      <th></th>\n",
       "      <th>No</th>\n",
       "      <th>Cement</th>\n",
       "      <th>Slag</th>\n",
       "      <th>Fly ash</th>\n",
       "      <th>Water</th>\n",
       "      <th>SP</th>\n",
       "      <th>Coarse Aggr.</th>\n",
       "      <th>Fine Aggr.</th>\n",
       "      <th>SLUMP(cm)</th>\n",
       "      <th>FLOW(cm)</th>\n",
       "      <th>Compressive Strength (28-day)(Mpa)</th>\n",
       "    </tr>\n",
       "  </thead>\n",
       "  <tbody>\n",
       "    <tr>\n",
       "      <th>0</th>\n",
       "      <td>1</td>\n",
       "      <td>273.0</td>\n",
       "      <td>82.0</td>\n",
       "      <td>105.0</td>\n",
       "      <td>210.0</td>\n",
       "      <td>9.0</td>\n",
       "      <td>904.0</td>\n",
       "      <td>680.0</td>\n",
       "      <td>23.0</td>\n",
       "      <td>62.0</td>\n",
       "      <td>34.99</td>\n",
       "    </tr>\n",
       "    <tr>\n",
       "      <th>1</th>\n",
       "      <td>2</td>\n",
       "      <td>163.0</td>\n",
       "      <td>149.0</td>\n",
       "      <td>191.0</td>\n",
       "      <td>180.0</td>\n",
       "      <td>12.0</td>\n",
       "      <td>843.0</td>\n",
       "      <td>746.0</td>\n",
       "      <td>0.0</td>\n",
       "      <td>20.0</td>\n",
       "      <td>41.14</td>\n",
       "    </tr>\n",
       "    <tr>\n",
       "      <th>2</th>\n",
       "      <td>3</td>\n",
       "      <td>162.0</td>\n",
       "      <td>148.0</td>\n",
       "      <td>191.0</td>\n",
       "      <td>179.0</td>\n",
       "      <td>16.0</td>\n",
       "      <td>840.0</td>\n",
       "      <td>743.0</td>\n",
       "      <td>1.0</td>\n",
       "      <td>20.0</td>\n",
       "      <td>41.81</td>\n",
       "    </tr>\n",
       "    <tr>\n",
       "      <th>3</th>\n",
       "      <td>4</td>\n",
       "      <td>162.0</td>\n",
       "      <td>148.0</td>\n",
       "      <td>190.0</td>\n",
       "      <td>179.0</td>\n",
       "      <td>19.0</td>\n",
       "      <td>838.0</td>\n",
       "      <td>741.0</td>\n",
       "      <td>3.0</td>\n",
       "      <td>21.5</td>\n",
       "      <td>42.08</td>\n",
       "    </tr>\n",
       "    <tr>\n",
       "      <th>4</th>\n",
       "      <td>5</td>\n",
       "      <td>154.0</td>\n",
       "      <td>112.0</td>\n",
       "      <td>144.0</td>\n",
       "      <td>220.0</td>\n",
       "      <td>10.0</td>\n",
       "      <td>923.0</td>\n",
       "      <td>658.0</td>\n",
       "      <td>20.0</td>\n",
       "      <td>64.0</td>\n",
       "      <td>26.82</td>\n",
       "    </tr>\n",
       "  </tbody>\n",
       "</table>\n",
       "</div>"
      ],
      "text/plain": [
       "   No  Cement   Slag  Fly ash  Water    SP  Coarse Aggr.  Fine Aggr.  \\\n",
       "0   1   273.0   82.0    105.0  210.0   9.0         904.0       680.0   \n",
       "1   2   163.0  149.0    191.0  180.0  12.0         843.0       746.0   \n",
       "2   3   162.0  148.0    191.0  179.0  16.0         840.0       743.0   \n",
       "3   4   162.0  148.0    190.0  179.0  19.0         838.0       741.0   \n",
       "4   5   154.0  112.0    144.0  220.0  10.0         923.0       658.0   \n",
       "\n",
       "   SLUMP(cm)  FLOW(cm)  Compressive Strength (28-day)(Mpa)  \n",
       "0       23.0      62.0                               34.99  \n",
       "1        0.0      20.0                               41.14  \n",
       "2        1.0      20.0                               41.81  \n",
       "3        3.0      21.5                               42.08  \n",
       "4       20.0      64.0                               26.82  "
      ]
     },
     "execution_count": 24,
     "metadata": {},
     "output_type": "execute_result"
    }
   ],
   "source": [
    "data = pd.read_csv('https://archive.ics.uci.edu/ml/machine-learning-databases/concrete/slump/slump_test.data')\n",
    "data.head()"
   ]
  },
  {
   "cell_type": "markdown",
   "id": "exotic-government",
   "metadata": {},
   "source": [
    "We need to drop `No` column as this is just the numbering of the rows, and the last 3 variables are dependent variables while the rest need to be independent variables."
   ]
  },
  {
   "cell_type": "code",
   "execution_count": 25,
   "id": "christian-relief",
   "metadata": {},
   "outputs": [],
   "source": [
    "X = data.iloc[:,1:8]\n",
    "SLUMP = data['SLUMP(cm)']\n",
    "FLOW = data['FLOW(cm)']\n",
    "COMPRESSION = data['Compressive Strength (28-day)(Mpa)']"
   ]
  },
  {
   "cell_type": "markdown",
   "id": "organizational-implementation",
   "metadata": {},
   "source": [
    "Next, let us look at the correlation matrix:"
   ]
  },
  {
   "cell_type": "code",
   "execution_count": 26,
   "id": "acting-circumstances",
   "metadata": {},
   "outputs": [
    {
     "data": {
      "text/plain": [
       "<AxesSubplot:>"
      ]
     },
     "execution_count": 26,
     "metadata": {},
     "output_type": "execute_result"
    },
    {
     "data": {
      "image/png": "[encoded data removed]",
      "text/plain": [
       "<Figure size 792x576 with 2 Axes>"
      ]
     },
     "metadata": {
      "needs_background": "light"
     },
     "output_type": "display_data"
    }
   ],
   "source": [
    "plt.figure(figsize=(11, 8))\n",
    "sns.heatmap(data.corr(), cmap='bone')"
   ]
  },
  {
   "cell_type": "markdown",
   "id": "catholic-harris",
   "metadata": {},
   "source": [
    "There is a serious correlation between the `SLUMP` and `FLOW` columns, but these are dependent variables anyway. \n",
    "\n",
    "Let us start with SLUMP:"
   ]
  },
  {
   "cell_type": "code",
   "execution_count": 27,
   "id": "complicated-growth",
   "metadata": {},
   "outputs": [
    {
     "data": {
      "text/plain": [
       "0.32330787970835484"
      ]
     },
     "execution_count": 27,
     "metadata": {},
     "output_type": "execute_result"
    }
   ],
   "source": [
    "from sklearn.linear_model import LinearRegression\n",
    "\n",
    "def makeLRModel(X,y):\n",
    "    model = LinearRegression()\n",
    "    model.fit(X,y)\n",
    "    return model.score(X,y)\n",
    "\n",
    "makeLRModel(X,SLUMP)"
   ]
  },
  {
   "cell_type": "markdown",
   "id": "cardiovascular-salvation",
   "metadata": {},
   "source": [
    "The $R^2$-score is 32.3%, in other words, the model explains only 32% of the variation in the data.\n",
    "\n",
    "Next, FLOW:"
   ]
  },
  {
   "cell_type": "code",
   "execution_count": 28,
   "id": "focal-little",
   "metadata": {},
   "outputs": [
    {
     "data": {
      "text/plain": [
       "0.5022296725445192"
      ]
     },
     "execution_count": 28,
     "metadata": {},
     "output_type": "execute_result"
    }
   ],
   "source": [
    "makeLRModel(X,FLOW)"
   ]
  },
  {
   "cell_type": "markdown",
   "id": "heavy-repair",
   "metadata": {},
   "source": [
    "This time, the $R^2$-score increased to 50%. Finally, COMPRESSION:"
   ]
  },
  {
   "cell_type": "code",
   "execution_count": 29,
   "id": "checked-candidate",
   "metadata": {},
   "outputs": [
    {
     "data": {
      "text/plain": [
       "0.8968376098140092"
      ]
     },
     "execution_count": 29,
     "metadata": {},
     "output_type": "execute_result"
    }
   ],
   "source": [
    "makeLRModel(X,COMPRESSION)"
   ]
  },
  {
   "cell_type": "markdown",
   "id": "developed-telephone",
   "metadata": {},
   "source": [
    "The $R^2$-score increased to 90%."
   ]
  },
  {
   "cell_type": "code",
   "execution_count": null,
   "id": "every-importance",
   "metadata": {},
   "outputs": [],
   "source": []
  }
 ],
 "metadata": {
  "kernelspec": {
   "display_name": "Python 3",
   "language": "python",
   "name": "python3"
  },
  "language_info": {
   "codemirror_mode": {
    "name": "ipython",
    "version": 3
   },
   "file_extension": ".py",
   "mimetype": "text/x-python",
   "name": "python",
   "nbconvert_exporter": "python",
   "pygments_lexer": "ipython3",
   "version": "3.9.2"
  }
 },
 "nbformat": 4,
 "nbformat_minor": 5
}
