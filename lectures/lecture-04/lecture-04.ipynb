{
 "cells": [
  {
   "cell_type": "markdown",
   "metadata": {},
   "source": [
    "# Demos for Lecture 4\n"
   ]
  },
  {
   "cell_type": "code",
   "execution_count": 133,
   "metadata": {},
   "outputs": [],
   "source": [
    "import numpy as np\n",
    "import matplotlib.pyplot as plt\n",
    "\n",
    "from sklearn.linear_model import LinearRegression, Ridge, Lasso, ElasticNet\n",
    "from sklearn.cluster import KMeans\n",
    "from sklearn.decomposition import PCA\n",
    "from scipy.stats import entropy\n",
    "\n",
    "import pandas as pd\n",
    "import word2vec"
   ]
  },
  {
   "cell_type": "markdown",
   "metadata": {},
   "source": [
    "## KL-Divergence"
   ]
  },
  {
   "cell_type": "code",
   "execution_count": 178,
   "metadata": {},
   "outputs": [
    {
     "name": "stdout",
     "output_type": "stream",
     "text": [
      "0.22314355131420976\n",
      "0.09151622184943578\n",
      "0.020135513550688863\n",
      "0.020410997260127586\n"
     ]
    }
   ],
   "source": [
    "p = [0.5, 0.5]\n",
    "q = [0.2, 0.8]\n",
    "r = [0.4, 0.6]\n",
    "\n",
    "print(entropy(p,q))\n",
    "print(entropy(q,r))\n",
    "print(entropy(r,p))\n",
    "print(entropy(p,r))"
   ]
  },
  {
   "cell_type": "markdown",
   "metadata": {},
   "source": [
    "## Cosine similarity"
   ]
  },
  {
   "cell_type": "code",
   "execution_count": 174,
   "metadata": {},
   "outputs": [
    {
     "name": "stdout",
     "output_type": "stream",
     "text": [
      "Running command: word2phrase -train ./data/oliver_twist.txt -output ./data/oliver_twist_phrases -min-count 5 -threshold 100 -debug 2\n",
      "Starting training using file ./data/oliver_twist.txt\n",
      "Words processed: 100K     Vocab size: 77K  \n",
      "Vocab size (unigrams + bigrams): 60511\n",
      "Words in train file: 161090\n",
      "Running command: word2vec -train ./data/oliver_twist_phrases -output ./data/oliver_twist_model.bin -size 200 -window 5 -sample 1e-3 -hs 0 -negative 5 -threads 12 -iter 10 -min-count 5 -alpha 0.025 -debug 2 -binary 1 -cbow 1\n",
      "Starting training using file ./data/oliver_twist_phrases\n",
      "Vocab size: 3582\n",
      "Words in train file: 152774\n",
      "Alpha: 0.000390  Progress: 99.63%  Words/thread/sec: 213.15k  "
     ]
    }
   ],
   "source": [
    "word2vec.word2phrase('./data/oliver_twist.txt','./data/oliver_twist_phrases',verbose=True)\n",
    "word2vec.word2vec('./data/oliver_twist_phrases', './data/oliver_twist_model.bin', size=200, iter_=10, binary=True, verbose=True)\n",
    "model = word2vec.load('./data/oliver_twist_model.bin')"
   ]
  },
  {
   "cell_type": "code",
   "execution_count": 176,
   "metadata": {},
   "outputs": [
    {
     "data": {
      "text/plain": [
       "[('hand', 'feet', 0.9243446189735337),\n",
       " ('hand', 'hill', 0.8962490907155184),\n",
       " ('hand', 'head', 0.9784266352727251),\n",
       " ('feet', 'hill', 0.9901562311256618),\n",
       " ('feet', 'head', 0.909988295598704),\n",
       " ('hill', 'head', 0.8670625580170362)]"
      ]
     },
     "execution_count": 176,
     "metadata": {},
     "output_type": "execute_result"
    }
   ],
   "source": [
    "model.distance('hand','feet','hill','head')"
   ]
  },
  {
   "cell_type": "code",
   "execution_count": 173,
   "metadata": {},
   "outputs": [],
   "source": [
    "?word2vec.word2vec"
   ]
  },
  {
   "cell_type": "markdown",
   "metadata": {},
   "source": [
    "\n",
    "## Regression"
   ]
  },
  {
   "cell_type": "markdown",
   "metadata": {},
   "source": [
    "Here we generate our demo synthetic data."
   ]
  },
  {
   "cell_type": "code",
   "execution_count": 35,
   "metadata": {},
   "outputs": [],
   "source": [
    "X = np.random.rand(200000,500)\n",
    "X[:,499] = np.repeat(1,200000)\n",
    "beta = np.random.rand(500,1)\n",
    "y = np.matmul(X,beta).reshape(200000) + np.random.normal(0.0,0.1,200000)"
   ]
  },
  {
   "cell_type": "markdown",
   "metadata": {},
   "source": [
    "This is the ordinary linear regression:"
   ]
  },
  {
   "cell_type": "code",
   "execution_count": 43,
   "metadata": {},
   "outputs": [
    {
     "data": {
      "text/plain": [
       "206.0683211372369"
      ]
     },
     "execution_count": 43,
     "metadata": {},
     "output_type": "execute_result"
    }
   ],
   "source": [
    "model1 = LinearRegression()\n",
    "model1.fit(X,y)\n",
    "\n",
    "np.linalg.norm(np.append(model1.coef_,[model1.intercept_])- beta)"
   ]
  },
  {
   "cell_type": "markdown",
   "metadata": {},
   "source": [
    "This is the ridge regression model."
   ]
  },
  {
   "cell_type": "code",
   "execution_count": 44,
   "metadata": {},
   "outputs": [
    {
     "data": {
      "text/plain": [
       "206.0643774184312"
      ]
     },
     "execution_count": 44,
     "metadata": {},
     "output_type": "execute_result"
    }
   ],
   "source": [
    "model2 = Ridge()\n",
    "model2.fit(X,y)\n",
    "\n",
    "np.linalg.norm(np.append(model2.coef_,[model2.intercept_])- beta)"
   ]
  },
  {
   "cell_type": "markdown",
   "metadata": {},
   "source": [
    "This is lasso regression model."
   ]
  },
  {
   "cell_type": "code",
   "execution_count": 45,
   "metadata": {},
   "outputs": [
    {
     "data": {
      "text/plain": [
       "2899.918094429287"
      ]
     },
     "execution_count": 45,
     "metadata": {},
     "output_type": "execute_result"
    }
   ],
   "source": [
    "model3 = Lasso()\n",
    "model3.fit(X,y)\n",
    "\n",
    "np.linalg.norm(np.append(model3.coef_,[model3.intercept_])- beta)"
   ]
  },
  {
   "cell_type": "markdown",
   "metadata": {},
   "source": [
    "And finally elastic net model."
   ]
  },
  {
   "cell_type": "code",
   "execution_count": 49,
   "metadata": {},
   "outputs": [
    {
     "data": {
      "text/plain": [
       "2899.918094429287"
      ]
     },
     "execution_count": 49,
     "metadata": {},
     "output_type": "execute_result"
    }
   ],
   "source": [
    "model4 = ElasticNet()\n",
    "model4.fit(X,y)\n",
    "\n",
    "np.linalg.norm(np.append(model4.coef_,[model4.intercept_])- beta)"
   ]
  },
  {
   "cell_type": "markdown",
   "metadata": {},
   "source": [
    "Now, let us develop a regression model on a real dataset. This dataset is culled from UCI. Here is the [link](https://archive.ics.uci.edu/ml/datasets/Residential+Building+Data+Set)"
   ]
  },
  {
   "cell_type": "code",
   "execution_count": 71,
   "metadata": {},
   "outputs": [
    {
     "data": {
      "text/html": [
       "<div>\n",
       "<style scoped>\n",
       "    .dataframe tbody tr th:only-of-type {\n",
       "        vertical-align: middle;\n",
       "    }\n",
       "\n",
       "    .dataframe tbody tr th {\n",
       "        vertical-align: top;\n",
       "    }\n",
       "\n",
       "    .dataframe thead th {\n",
       "        text-align: right;\n",
       "    }\n",
       "</style>\n",
       "<table border=\"1\" class=\"dataframe\">\n",
       "  <thead>\n",
       "    <tr style=\"text-align: right;\">\n",
       "      <th></th>\n",
       "      <th>START YEAR</th>\n",
       "      <th>START QUARTER</th>\n",
       "      <th>COMPLETION YEAR</th>\n",
       "      <th>COMPLETION QUARTER</th>\n",
       "      <th>V-1</th>\n",
       "      <th>V-2</th>\n",
       "      <th>V-3</th>\n",
       "      <th>V-4</th>\n",
       "      <th>V-5</th>\n",
       "      <th>V-6</th>\n",
       "      <th>...</th>\n",
       "      <th>V-22.4</th>\n",
       "      <th>V-23.4</th>\n",
       "      <th>V-24.4</th>\n",
       "      <th>V-25.4</th>\n",
       "      <th>V-26.4</th>\n",
       "      <th>V-27.4</th>\n",
       "      <th>V-28.4</th>\n",
       "      <th>V-29.4</th>\n",
       "      <th>V-9</th>\n",
       "      <th>V-10</th>\n",
       "    </tr>\n",
       "  </thead>\n",
       "  <tbody>\n",
       "    <tr>\n",
       "      <th>0</th>\n",
       "      <td>81</td>\n",
       "      <td>1</td>\n",
       "      <td>85</td>\n",
       "      <td>1</td>\n",
       "      <td>1</td>\n",
       "      <td>3150.0</td>\n",
       "      <td>920.0</td>\n",
       "      <td>598.5</td>\n",
       "      <td>190</td>\n",
       "      <td>1010.84</td>\n",
       "      <td>...</td>\n",
       "      <td>815.50</td>\n",
       "      <td>1755.00</td>\n",
       "      <td>8002.0</td>\n",
       "      <td>60.74</td>\n",
       "      <td>54.26</td>\n",
       "      <td>2978.26</td>\n",
       "      <td>41407.00</td>\n",
       "      <td>601988.1</td>\n",
       "      <td>2200</td>\n",
       "      <td>410</td>\n",
       "    </tr>\n",
       "    <tr>\n",
       "      <th>1</th>\n",
       "      <td>84</td>\n",
       "      <td>1</td>\n",
       "      <td>89</td>\n",
       "      <td>4</td>\n",
       "      <td>1</td>\n",
       "      <td>7600.0</td>\n",
       "      <td>1140.0</td>\n",
       "      <td>3040.0</td>\n",
       "      <td>400</td>\n",
       "      <td>963.81</td>\n",
       "      <td>...</td>\n",
       "      <td>1316.30</td>\n",
       "      <td>8364.78</td>\n",
       "      <td>8393.0</td>\n",
       "      <td>90.95</td>\n",
       "      <td>89.79</td>\n",
       "      <td>11379.37</td>\n",
       "      <td>44835.00</td>\n",
       "      <td>929027.1</td>\n",
       "      <td>5000</td>\n",
       "      <td>1000</td>\n",
       "    </tr>\n",
       "    <tr>\n",
       "      <th>2</th>\n",
       "      <td>78</td>\n",
       "      <td>1</td>\n",
       "      <td>81</td>\n",
       "      <td>4</td>\n",
       "      <td>1</td>\n",
       "      <td>4800.0</td>\n",
       "      <td>840.0</td>\n",
       "      <td>480.0</td>\n",
       "      <td>100</td>\n",
       "      <td>689.84</td>\n",
       "      <td>...</td>\n",
       "      <td>765.80</td>\n",
       "      <td>1755.00</td>\n",
       "      <td>4930.0</td>\n",
       "      <td>38.70</td>\n",
       "      <td>32.04</td>\n",
       "      <td>1653.06</td>\n",
       "      <td>37933.00</td>\n",
       "      <td>377828.6</td>\n",
       "      <td>1200</td>\n",
       "      <td>170</td>\n",
       "    </tr>\n",
       "    <tr>\n",
       "      <th>3</th>\n",
       "      <td>72</td>\n",
       "      <td>2</td>\n",
       "      <td>73</td>\n",
       "      <td>2</td>\n",
       "      <td>1</td>\n",
       "      <td>685.0</td>\n",
       "      <td>202.0</td>\n",
       "      <td>13.7</td>\n",
       "      <td>20</td>\n",
       "      <td>459.54</td>\n",
       "      <td>...</td>\n",
       "      <td>152.25</td>\n",
       "      <td>1442.31</td>\n",
       "      <td>1456.0</td>\n",
       "      <td>9.73</td>\n",
       "      <td>8.34</td>\n",
       "      <td>686.16</td>\n",
       "      <td>8194.00</td>\n",
       "      <td>122031.7</td>\n",
       "      <td>165</td>\n",
       "      <td>30</td>\n",
       "    </tr>\n",
       "    <tr>\n",
       "      <th>4</th>\n",
       "      <td>87</td>\n",
       "      <td>1</td>\n",
       "      <td>90</td>\n",
       "      <td>2</td>\n",
       "      <td>1</td>\n",
       "      <td>3000.0</td>\n",
       "      <td>800.0</td>\n",
       "      <td>1230.0</td>\n",
       "      <td>410</td>\n",
       "      <td>631.91</td>\n",
       "      <td>...</td>\n",
       "      <td>2244.10</td>\n",
       "      <td>9231.76</td>\n",
       "      <td>9286.0</td>\n",
       "      <td>136.60</td>\n",
       "      <td>140.20</td>\n",
       "      <td>9821.00</td>\n",
       "      <td>48260.00</td>\n",
       "      <td>1734973.5</td>\n",
       "      <td>5500</td>\n",
       "      <td>700</td>\n",
       "    </tr>\n",
       "    <tr>\n",
       "      <th>...</th>\n",
       "      <td>...</td>\n",
       "      <td>...</td>\n",
       "      <td>...</td>\n",
       "      <td>...</td>\n",
       "      <td>...</td>\n",
       "      <td>...</td>\n",
       "      <td>...</td>\n",
       "      <td>...</td>\n",
       "      <td>...</td>\n",
       "      <td>...</td>\n",
       "      <td>...</td>\n",
       "      <td>...</td>\n",
       "      <td>...</td>\n",
       "      <td>...</td>\n",
       "      <td>...</td>\n",
       "      <td>...</td>\n",
       "      <td>...</td>\n",
       "      <td>...</td>\n",
       "      <td>...</td>\n",
       "      <td>...</td>\n",
       "      <td>...</td>\n",
       "    </tr>\n",
       "    <tr>\n",
       "      <th>367</th>\n",
       "      <td>83</td>\n",
       "      <td>4</td>\n",
       "      <td>86</td>\n",
       "      <td>1</td>\n",
       "      <td>20</td>\n",
       "      <td>1350.0</td>\n",
       "      <td>350.0</td>\n",
       "      <td>108.0</td>\n",
       "      <td>80</td>\n",
       "      <td>251.37</td>\n",
       "      <td>...</td>\n",
       "      <td>1176.50</td>\n",
       "      <td>8343.60</td>\n",
       "      <td>8382.0</td>\n",
       "      <td>87.27</td>\n",
       "      <td>85.56</td>\n",
       "      <td>10555.47</td>\n",
       "      <td>33626.25</td>\n",
       "      <td>865878.9</td>\n",
       "      <td>1100</td>\n",
       "      <td>150</td>\n",
       "    </tr>\n",
       "    <tr>\n",
       "      <th>368</th>\n",
       "      <td>81</td>\n",
       "      <td>2</td>\n",
       "      <td>82</td>\n",
       "      <td>4</td>\n",
       "      <td>20</td>\n",
       "      <td>600.0</td>\n",
       "      <td>150.0</td>\n",
       "      <td>36.0</td>\n",
       "      <td>60</td>\n",
       "      <td>299.55</td>\n",
       "      <td>...</td>\n",
       "      <td>815.50</td>\n",
       "      <td>1755.00</td>\n",
       "      <td>8013.0</td>\n",
       "      <td>62.78</td>\n",
       "      <td>56.45</td>\n",
       "      <td>3387.72</td>\n",
       "      <td>10646.75</td>\n",
       "      <td>606524.2</td>\n",
       "      <td>740</td>\n",
       "      <td>80</td>\n",
       "    </tr>\n",
       "    <tr>\n",
       "      <th>369</th>\n",
       "      <td>84</td>\n",
       "      <td>4</td>\n",
       "      <td>86</td>\n",
       "      <td>3</td>\n",
       "      <td>20</td>\n",
       "      <td>1900.0</td>\n",
       "      <td>430.0</td>\n",
       "      <td>285.0</td>\n",
       "      <td>150</td>\n",
       "      <td>364.41</td>\n",
       "      <td>...</td>\n",
       "      <td>1584.30</td>\n",
       "      <td>8776.71</td>\n",
       "      <td>8799.0</td>\n",
       "      <td>101.00</td>\n",
       "      <td>101.89</td>\n",
       "      <td>13571.80</td>\n",
       "      <td>34474.50</td>\n",
       "      <td>1067772.0</td>\n",
       "      <td>860</td>\n",
       "      <td>220</td>\n",
       "    </tr>\n",
       "    <tr>\n",
       "      <th>370</th>\n",
       "      <td>82</td>\n",
       "      <td>3</td>\n",
       "      <td>84</td>\n",
       "      <td>4</td>\n",
       "      <td>20</td>\n",
       "      <td>510.0</td>\n",
       "      <td>160.0</td>\n",
       "      <td>30.6</td>\n",
       "      <td>60</td>\n",
       "      <td>245.28</td>\n",
       "      <td>...</td>\n",
       "      <td>909.20</td>\n",
       "      <td>7930.66</td>\n",
       "      <td>8004.0</td>\n",
       "      <td>73.57</td>\n",
       "      <td>69.26</td>\n",
       "      <td>4756.68</td>\n",
       "      <td>21855.00</td>\n",
       "      <td>669640.3</td>\n",
       "      <td>1100</td>\n",
       "      <td>110</td>\n",
       "    </tr>\n",
       "    <tr>\n",
       "      <th>371</th>\n",
       "      <td>80</td>\n",
       "      <td>1</td>\n",
       "      <td>81</td>\n",
       "      <td>3</td>\n",
       "      <td>20</td>\n",
       "      <td>890.0</td>\n",
       "      <td>230.0</td>\n",
       "      <td>35.6</td>\n",
       "      <td>40</td>\n",
       "      <td>237.03</td>\n",
       "      <td>...</td>\n",
       "      <td>764.50</td>\n",
       "      <td>1755.00</td>\n",
       "      <td>8420.0</td>\n",
       "      <td>54.62</td>\n",
       "      <td>44.79</td>\n",
       "      <td>2206.19</td>\n",
       "      <td>40234.00</td>\n",
       "      <td>629797.2</td>\n",
       "      <td>460</td>\n",
       "      <td>50</td>\n",
       "    </tr>\n",
       "  </tbody>\n",
       "</table>\n",
       "<p>372 rows × 109 columns</p>\n",
       "</div>"
      ],
      "text/plain": [
       "     START YEAR  START QUARTER  COMPLETION YEAR  COMPLETION QUARTER  V-1  \\\n",
       "0            81              1               85                   1    1   \n",
       "1            84              1               89                   4    1   \n",
       "2            78              1               81                   4    1   \n",
       "3            72              2               73                   2    1   \n",
       "4            87              1               90                   2    1   \n",
       "..          ...            ...              ...                 ...  ...   \n",
       "367          83              4               86                   1   20   \n",
       "368          81              2               82                   4   20   \n",
       "369          84              4               86                   3   20   \n",
       "370          82              3               84                   4   20   \n",
       "371          80              1               81                   3   20   \n",
       "\n",
       "        V-2     V-3     V-4  V-5      V-6  ...   V-22.4   V-23.4  V-24.4  \\\n",
       "0    3150.0   920.0   598.5  190  1010.84  ...   815.50  1755.00  8002.0   \n",
       "1    7600.0  1140.0  3040.0  400   963.81  ...  1316.30  8364.78  8393.0   \n",
       "2    4800.0   840.0   480.0  100   689.84  ...   765.80  1755.00  4930.0   \n",
       "3     685.0   202.0    13.7   20   459.54  ...   152.25  1442.31  1456.0   \n",
       "4    3000.0   800.0  1230.0  410   631.91  ...  2244.10  9231.76  9286.0   \n",
       "..      ...     ...     ...  ...      ...  ...      ...      ...     ...   \n",
       "367  1350.0   350.0   108.0   80   251.37  ...  1176.50  8343.60  8382.0   \n",
       "368   600.0   150.0    36.0   60   299.55  ...   815.50  1755.00  8013.0   \n",
       "369  1900.0   430.0   285.0  150   364.41  ...  1584.30  8776.71  8799.0   \n",
       "370   510.0   160.0    30.6   60   245.28  ...   909.20  7930.66  8004.0   \n",
       "371   890.0   230.0    35.6   40   237.03  ...   764.50  1755.00  8420.0   \n",
       "\n",
       "     V-25.4  V-26.4    V-27.4    V-28.4     V-29.4   V-9  V-10  \n",
       "0     60.74   54.26   2978.26  41407.00   601988.1  2200   410  \n",
       "1     90.95   89.79  11379.37  44835.00   929027.1  5000  1000  \n",
       "2     38.70   32.04   1653.06  37933.00   377828.6  1200   170  \n",
       "3      9.73    8.34    686.16   8194.00   122031.7   165    30  \n",
       "4    136.60  140.20   9821.00  48260.00  1734973.5  5500   700  \n",
       "..      ...     ...       ...       ...        ...   ...   ...  \n",
       "367   87.27   85.56  10555.47  33626.25   865878.9  1100   150  \n",
       "368   62.78   56.45   3387.72  10646.75   606524.2   740    80  \n",
       "369  101.00  101.89  13571.80  34474.50  1067772.0   860   220  \n",
       "370   73.57   69.26   4756.68  21855.00   669640.3  1100   110  \n",
       "371   54.62   44.79   2206.19  40234.00   629797.2   460    50  \n",
       "\n",
       "[372 rows x 109 columns]"
      ]
     },
     "execution_count": 71,
     "metadata": {},
     "output_type": "execute_result"
    }
   ],
   "source": [
    "data = pd.read_excel('./data/Residential-Building-Data-Set.xlsx', header=0)\n",
    "data"
   ]
  },
  {
   "cell_type": "markdown",
   "metadata": {},
   "source": [
    "Columns 6 to 107 are independent variables, and columns 108 and 109 are the dependent variables."
   ]
  },
  {
   "cell_type": "code",
   "execution_count": 72,
   "metadata": {},
   "outputs": [],
   "source": [
    "X = data.iloc[:,5:107]\n",
    "y = data.iloc[:,108]"
   ]
  },
  {
   "cell_type": "markdown",
   "metadata": {},
   "source": [
    "We will develop a linear regression and a ridge regression models below. `1.0 - model.score` gives us the value of the cost function on these models."
   ]
  },
  {
   "cell_type": "code",
   "execution_count": 75,
   "metadata": {},
   "outputs": [
    {
     "data": {
      "text/plain": [
       "0.017899630500838648"
      ]
     },
     "execution_count": 75,
     "metadata": {},
     "output_type": "execute_result"
    }
   ],
   "source": [
    "model = LinearRegression()\n",
    "model.fit(X,y)\n",
    "1.0 - model.score(X,y)"
   ]
  },
  {
   "cell_type": "code",
   "execution_count": 76,
   "metadata": {},
   "outputs": [
    {
     "data": {
      "text/plain": [
       "0.017900290230223992"
      ]
     },
     "execution_count": 76,
     "metadata": {},
     "output_type": "execute_result"
    }
   ],
   "source": [
    "model = Ridge()\n",
    "model.fit(X,y)\n",
    "1.0 - model.score(X,y)"
   ]
  },
  {
   "cell_type": "markdown",
   "metadata": {},
   "source": [
    "## k-means\n",
    "\n",
    "For this part of the notes we are using [this](https://archive.ics.uci.edu/ml/datasets/Travel+Reviews) dataset."
   ]
  },
  {
   "cell_type": "code",
   "execution_count": 94,
   "metadata": {},
   "outputs": [],
   "source": [
    "data = pd.read_csv('./data/tripadvisor_review.csv')\n",
    "X = data.iloc[:,1:10]"
   ]
  },
  {
   "cell_type": "code",
   "execution_count": 123,
   "metadata": {},
   "outputs": [],
   "source": [
    "model = KMeans(n_clusters=3)\n",
    "model.fit(X)\n",
    "classes = model.predict(X)\n",
    "project = PCA(n_components=2)\n",
    "Z = project.fit_transform(X)"
   ]
  },
  {
   "cell_type": "code",
   "execution_count": 180,
   "metadata": {},
   "outputs": [
    {
     "data": {
      "text/plain": [
       "<matplotlib.collections.PathCollection at 0x7f2170300190>"
      ]
     },
     "execution_count": 180,
     "metadata": {},
     "output_type": "execute_result"
    },
    {
     "data": {
      "image/png": "[encoded data removed]",
      "text/plain": [
       "<Figure size 864x576 with 1 Axes>"
      ]
     },
     "metadata": {
      "needs_background": "light"
     },
     "output_type": "display_data"
    }
   ],
   "source": [
    "plt.figure(figsize=(12,8))\n",
    "plt.scatter(Z[:,0],Z[:,1],c=classes,s=8.0)"
   ]
  },
  {
   "cell_type": "code",
   "execution_count": null,
   "metadata": {},
   "outputs": [],
   "source": []
  }
 ],
 "metadata": {
  "kernelspec": {
   "display_name": "Python 3",
   "language": "python",
   "name": "python3"
  },
  "language_info": {
   "codemirror_mode": {
    "name": "ipython",
    "version": 3
   },
   "file_extension": ".py",
   "mimetype": "text/x-python",
   "name": "python",
   "nbconvert_exporter": "python",
   "pygments_lexer": "ipython3",
   "version": "3.9.2"
  }
 },
 "nbformat": 4,
 "nbformat_minor": 4
}
