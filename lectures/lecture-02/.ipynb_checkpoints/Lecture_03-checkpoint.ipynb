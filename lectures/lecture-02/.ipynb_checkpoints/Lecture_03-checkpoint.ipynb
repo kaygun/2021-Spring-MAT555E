{
  "nbformat": 4,
  "nbformat_minor": 0,
  "metadata": {
    "colab": {
      "name": "Lecture-02.ipynb",
      "provenance": []
    },
    "kernelspec": {
      "name": "python3",
      "display_name": "Python 3"
    }
  },
  "cells": [
    {
      "cell_type": "markdown",
      "metadata": {
        "id": "j04am__eTxP2"
      },
      "source": [
        "# MATH555E Lecture 2\n",
        "\n",
        "This is the notebook for the 2nd lecture of the *Statistical Data Analysis for Computational Sciences* (MAT555E) class.\n",
        "\n",
        "Such notebooks are very powerful and useful tools since they combine expository text (like this paragraph) computations (as given below) and visualizations (again as given below.) Learn how to use them!"
      ]
    },
    {
      "cell_type": "code",
      "metadata": {
        "id": "OFVZOreE83fA"
      },
      "source": [
        "from random import randint\n",
        "from math.\n",
        "\n",
        "import numpy as np\n",
        "import pandas as pd\n",
        "\n",
        "import matplotlib.pyplot as plt"
      ],
      "execution_count": 1,
      "outputs": []
    },
    {
      "cell_type": "code",
      "metadata": {
        "id": "jQdjDEMs9UWD"
      },
      "source": [
        ""
      ],
      "execution_count": null,
      "outputs": []
    }
  ]
}