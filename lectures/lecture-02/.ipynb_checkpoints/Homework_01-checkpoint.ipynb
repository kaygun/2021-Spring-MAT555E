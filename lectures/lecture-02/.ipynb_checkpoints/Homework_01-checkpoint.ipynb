{
 "cells": [
  {
   "cell_type": "markdown",
   "metadata": {},
   "source": [
    "# Question 1\n",
    "\n",
    "Write a python function that returns $2\\sin(x^2) + \\ln(|x|) + 1$ for a given real number $x$."
   ]
  },
  {
   "cell_type": "code",
   "execution_count": null,
   "metadata": {},
   "outputs": [],
   "source": []
  },
  {
   "cell_type": "markdown",
   "metadata": {},
   "source": [
    "# Question 2\n",
    "\n",
    "Write a python function that takes\n",
    "\n",
    "* A function `f(x)`\n",
    "* A pair of real numbers `(a,b)`\n",
    "* An integer `N`\n",
    "\n",
    "as input and returns the Riemann sum of `f(x)` on the interval `[a,b]` with `N` equal subdivisions."
   ]
  },
  {
   "cell_type": "code",
   "execution_count": null,
   "metadata": {},
   "outputs": [],
   "source": []
  },
  {
   "cell_type": "markdown",
   "metadata": {},
   "source": [
    "# Question 3\n",
    "\n",
    "* Pull 100 uniformly random numbers from the interval $[0,1]$ as an array `xs`.\n",
    "* Add 0 at the beginning of the array, and 1.0 at the end.\n",
    "* Sort the array `xs` from smallest to the largest.\n",
    "* Calculate its discrete derivative `ys`, i.e. let $y_i = x_{i+1} - x_i$"
   ]
  },
  {
   "cell_type": "code",
   "execution_count": null,
   "metadata": {},
   "outputs": [],
   "source": []
  },
  {
   "cell_type": "markdown",
   "metadata": {},
   "source": [
    "# Question 4\n",
    "\n",
    "* Pull 100 uniformly random numbers from the interval $[0,1]$ into an array `xs`.\n",
    "* Pull 100 random numbers from the Gaussion distribution with $\\mu=0$ and $\\sigma=1.0$ into an array `ys`.\n",
    "* Scatter plot `xs` against `ys` using `matplotlib`\n"
   ]
  },
  {
   "cell_type": "code",
   "execution_count": null,
   "metadata": {},
   "outputs": [],
   "source": []
  },
  {
   "cell_type": "markdown",
   "metadata": {},
   "source": [
    "# Question 5\n",
    "\n",
    "Using the `numpy` library\n",
    "\n",
    "* Pull a random $100\\times 100$ matrix\n",
    "* Calculate its 100-th power\n",
    "* Calculate its eigen-values\n",
    "* Calculate is [Singular Value Decomposition](https://numpy.org/doc/stable/reference/generated/numpy.linalg.svd.html)"
   ]
  },
  {
   "cell_type": "code",
   "execution_count": null,
   "metadata": {},
   "outputs": [],
   "source": []
  },
  {
   "cell_type": "markdown",
   "metadata": {},
   "source": [
    "# Question 6\n",
    "\n",
    "* Pull the text of a novel by Dickens from the website of [Gutenberg Project](https://www.gutenberg.org/)\n",
    "* Remove all non-alphanumeric characters \n",
    "* Split the text into words and convert them into lower case\n",
    "* Count the number of distinct words in the  text\n",
    "* Count how many times each word occurs within the text"
   ]
  },
  {
   "cell_type": "code",
   "execution_count": null,
   "metadata": {},
   "outputs": [],
   "source": []
  },
  {
   "cell_type": "markdown",
   "metadata": {},
   "source": [
    "# Question 7\n",
    "\n",
    "* Write a python function `CountWords` that takes the URL for a text and returns the number of unique words within the text.\n",
    "* Write a python function `Top20Words` that takes the URL for a text and returns the most frequently appearing top 20 words within the text."
   ]
  },
  {
   "cell_type": "code",
   "execution_count": null,
   "metadata": {},
   "outputs": [],
   "source": []
  },
  {
   "cell_type": "markdown",
   "metadata": {},
   "source": [
    "# Question 8\n",
    "\n",
    "* Pull the [IMKB](https://archive.ics.uci.edu/ml/machine-learning-databases/00247/data_akbilgic.xlsx) data from UCI using pandas.\n",
    "* Plot the TL based ISE and USD based ISE columns together in the same graph.\n",
    "* Calculate how many times `NIKKEI` was higher than `FTSE`."
   ]
  },
  {
   "cell_type": "code",
   "execution_count": null,
   "metadata": {},
   "outputs": [],
   "source": []
  },
  {
   "cell_type": "markdown",
   "metadata": {},
   "source": [
    "# Question 9\n",
    "\n",
    "Using the [networkx](https://networkx.org/) library\n",
    "\n",
    "* Get the [adjacency matrix](https://en.wikipedia.org/wiki/Adjacency_matrix) of the [Peterson graph](https://en.wikipedia.org/wiki/Petersen_graph).\n",
    "* Calculate its eigen-values and eigen-vectors using the [numpy](https://numpy.org/) library.\n",
    "* Repeat the same for a [random 3-regular graph on 10 vertices](https://networkx.org/documentation/networkx-1.10/reference/generated/networkx.generators.random_graphs.random_regular_graph.html)."
   ]
  },
  {
   "cell_type": "code",
   "execution_count": null,
   "metadata": {},
   "outputs": [],
   "source": []
  },
  {
   "cell_type": "code",
   "execution_count": null,
   "metadata": {},
   "outputs": [],
   "source": []
  }
 ],
 "metadata": {
  "kernelspec": {
   "display_name": "Python 3",
   "language": "python",
   "name": "python3"
  },
  "language_info": {
   "codemirror_mode": {
    "name": "ipython",
    "version": 3
   },
   "file_extension": ".py",
   "mimetype": "text/x-python",
   "name": "python",
   "nbconvert_exporter": "python",
   "pygments_lexer": "ipython3",
   "version": "3.9.2"
  }
 },
 "nbformat": 4,
 "nbformat_minor": 4
}
